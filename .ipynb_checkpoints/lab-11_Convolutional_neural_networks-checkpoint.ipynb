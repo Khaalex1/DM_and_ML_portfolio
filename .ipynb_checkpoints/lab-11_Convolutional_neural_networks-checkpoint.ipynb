{
 "cells": [
  {
   "cell_type": "code",
   "execution_count": 9,
   "metadata": {
    "_cell_guid": "b1076dfc-b9ad-4769-8c92-a6c4dae69d19",
    "_uuid": "8f2839f25d086af736a60e9eeb907d3b93b6e0e5",
    "execution": {
     "iopub.execute_input": "2022-11-26T00:45:43.073372Z",
     "iopub.status.busy": "2022-11-26T00:45:43.072963Z",
     "iopub.status.idle": "2022-11-26T00:45:43.082812Z",
     "shell.execute_reply": "2022-11-26T00:45:43.081539Z",
     "shell.execute_reply.started": "2022-11-26T00:45:43.073340Z"
    }
   },
   "outputs": [],
   "source": [
    "import os\n",
    "import cv2\n",
    "import random\n",
    "import numpy as np \n",
    "import pandas as pd \n",
    "import seaborn as sns\n",
    "from tqdm import tqdm\n",
    "\n",
    "# Scikit-Learn ≥0.20 is required\n",
    "import sklearn\n",
    "assert sklearn.__version__ >= \"0.20\"\n",
    "\n",
    "# To plot pretty figures\n",
    "%matplotlib inline\n",
    "import matplotlib as mlp\n",
    "import matplotlib.pyplot as plt"
   ]
  },
  {
   "cell_type": "markdown",
   "metadata": {},
   "source": [
    "## Data Loading"
   ]
  },
  {
   "cell_type": "code",
   "execution_count": 10,
   "metadata": {
    "execution": {
     "iopub.execute_input": "2022-11-26T00:45:43.610199Z",
     "iopub.status.busy": "2022-11-26T00:45:43.609422Z",
     "iopub.status.idle": "2022-11-26T00:46:01.437179Z",
     "shell.execute_reply": "2022-11-26T00:46:01.436248Z",
     "shell.execute_reply.started": "2022-11-26T00:45:43.610147Z"
    }
   },
   "outputs": [
    {
     "name": "stdout",
     "output_type": "stream",
     "text": [
      "train_img shape :  (2870, 255, 255)\n",
      "train_labels shape :  (2870,)\n",
      "test_img shape :  (394, 255, 255)\n",
      "test_labels shape :  (394,)\n"
     ]
    }
   ],
   "source": [
    "labels = ['glioma_tumor', 'meningioma_tumor', 'no_tumor', 'pituitary_tumor']\n",
    "train_img = [] #contains the images used for training the model\n",
    "test_img = []\n",
    "train_labels = [] #label of each image in x_train \n",
    "test_labels = []\n",
    "TRAIN_PATH = '../input/brain-tumor-classification-mri/Training'\n",
    "TEST_PATH = '../input/brain-tumor-classification-mri/Testing'\n",
    "new_size = (255, 255)\n",
    "\n",
    "for label in labels:\n",
    "    img_dir = os.path.join(TRAIN_PATH, label)\n",
    "    for img_file in os.listdir(img_dir):\n",
    "        img = cv2.imread(f'{img_dir}/{img_file}')\n",
    "        img = cv2.resize(img, new_size)\n",
    "        img = cv2.cvtColor(img, cv2.COLOR_RGB2GRAY)/255\n",
    "        train_img.append(img)\n",
    "        train_labels.append(label)\n",
    "        \n",
    "train_img = np.stack(train_img)\n",
    "train_labels = np.stack(train_labels)\n",
    "\n",
    "print(\"train_img shape : \", train_img.shape)\n",
    "print(\"train_labels shape : \", train_labels.shape)\n",
    "\n",
    "for label in labels:\n",
    "    img_dir = os.path.join(TEST_PATH, label)\n",
    "    for img_file in os.listdir(img_dir):\n",
    "        img = cv2.imread(f'{img_dir}/{img_file}')\n",
    "        img = cv2.resize(img, new_size)\n",
    "        img = cv2.cvtColor(img, cv2.COLOR_RGB2GRAY)/255\n",
    "        test_img.append(img)\n",
    "        test_labels.append(label)\n",
    "        \n",
    "test_img = np.stack(test_img)\n",
    "test_labels = np.stack(test_labels)\n",
    "\n",
    "print(\"test_img shape : \", test_img.shape)\n",
    "print(\"test_labels shape : \", test_labels.shape)\n",
    "\n",
    "class_map = {\n",
    "    'no_tumor': 0,\n",
    "    'glioma_tumor': 1,\n",
    "    'pituitary_tumor': 2,\n",
    "    'meningioma_tumor': 3\n",
    "}\n",
    "\n",
    "train_labels = np.array([class_map[label] for label in train_labels])\n",
    "test_labels = np.array([class_map[label] for label in test_labels])"
   ]
  },
  {
   "cell_type": "markdown",
   "metadata": {},
   "source": [
    "# Pre-processing"
   ]
  },
  {
   "cell_type": "code",
   "execution_count": 11,
   "metadata": {
    "execution": {
     "iopub.execute_input": "2022-11-26T00:46:01.439508Z",
     "iopub.status.busy": "2022-11-26T00:46:01.438993Z",
     "iopub.status.idle": "2022-11-26T00:46:01.445048Z",
     "shell.execute_reply": "2022-11-26T00:46:01.443775Z",
     "shell.execute_reply.started": "2022-11-26T00:46:01.439473Z"
    }
   },
   "outputs": [],
   "source": [
    "train_img = train_img.reshape(2870, 255, 255, 1)\n",
    "test_img = test_img.reshape(394, 255, 255, 1)"
   ]
  },
  {
   "cell_type": "markdown",
   "metadata": {},
   "source": [
    "# Convolutional Multilayer Perceptron"
   ]
  },
  {
   "cell_type": "code",
   "execution_count": 12,
   "metadata": {
    "execution": {
     "iopub.execute_input": "2022-11-26T00:46:01.446807Z",
     "iopub.status.busy": "2022-11-26T00:46:01.446399Z",
     "iopub.status.idle": "2022-11-26T00:46:01.456912Z",
     "shell.execute_reply": "2022-11-26T00:46:01.455504Z",
     "shell.execute_reply.started": "2022-11-26T00:46:01.446775Z"
    }
   },
   "outputs": [],
   "source": [
    "from sklearn.metrics import accuracy_score, precision_score, recall_score, roc_auc_score, confusion_matrix, f1_score\n",
    "from sklearn.model_selection import cross_validate, cross_val_score"
   ]
  },
  {
   "cell_type": "code",
   "execution_count": 13,
   "metadata": {
    "execution": {
     "iopub.execute_input": "2022-11-26T00:46:01.460578Z",
     "iopub.status.busy": "2022-11-26T00:46:01.460122Z",
     "iopub.status.idle": "2022-11-26T00:46:01.468141Z",
     "shell.execute_reply": "2022-11-26T00:46:01.467340Z",
     "shell.execute_reply.started": "2022-11-26T00:46:01.460542Z"
    }
   },
   "outputs": [],
   "source": [
    "import keras \n",
    "from keras.models import Sequential \n",
    "from keras.layers import Dense, Dropout, Flatten \n",
    "from keras.layers import Conv2D, MaxPooling2D, AveragePooling2D\n",
    "from keras import backend as K "
   ]
  },
  {
   "cell_type": "markdown",
   "metadata": {},
   "source": [
    "### Create the model"
   ]
  },
  {
   "cell_type": "code",
   "execution_count": 14,
   "metadata": {
    "execution": {
     "iopub.execute_input": "2022-11-26T00:46:01.471049Z",
     "iopub.status.busy": "2022-11-26T00:46:01.470590Z",
     "iopub.status.idle": "2022-11-26T00:46:01.539667Z",
     "shell.execute_reply": "2022-11-26T00:46:01.538259Z",
     "shell.execute_reply.started": "2022-11-26T00:46:01.471006Z"
    }
   },
   "outputs": [
    {
     "name": "stdout",
     "output_type": "stream",
     "text": [
      "Model: \"sequential_1\"\n",
      "_________________________________________________________________\n",
      "Layer (type)                 Output Shape              Param #   \n",
      "=================================================================\n",
      "conv2d_3 (Conv2D)            (None, 251, 251, 25)      650       \n",
      "_________________________________________________________________\n",
      "average_pooling2d_3 (Average (None, 121, 121, 25)      0         \n",
      "_________________________________________________________________\n",
      "conv2d_4 (Conv2D)            (None, 117, 117, 10)      6260      \n",
      "_________________________________________________________________\n",
      "average_pooling2d_4 (Average (None, 57, 57, 10)        0         \n",
      "_________________________________________________________________\n",
      "conv2d_5 (Conv2D)            (None, 56, 56, 8)         328       \n",
      "_________________________________________________________________\n",
      "average_pooling2d_5 (Average (None, 28, 28, 8)         0         \n",
      "_________________________________________________________________\n",
      "flatten_1 (Flatten)          (None, 6272)              0         \n",
      "_________________________________________________________________\n",
      "dense_1 (Dense)              (None, 4)                 25092     \n",
      "=================================================================\n",
      "Total params: 32,330\n",
      "Trainable params: 32,330\n",
      "Non-trainable params: 0\n",
      "_________________________________________________________________\n"
     ]
    }
   ],
   "source": [
    "model = Sequential() \n",
    "\n",
    "model.add(Conv2D(25, kernel_size = 5, activation='relu', input_shape=(255, 255, 1), strides = 1))\n",
    "model.add(AveragePooling2D(pool_size = 10, strides = 2))\n",
    "\n",
    "model.add(Conv2D(10, kernel_size = 5, activation='relu', strides = 1))\n",
    "model.add(AveragePooling2D(pool_size = 5, strides = 2))\n",
    "\n",
    "model.add(Conv2D(8, kernel_size = 2, activation='relu', strides = 1))\n",
    "model.add(AveragePooling2D(pool_size = 2, strides = 2))\n",
    "\n",
    "model.add(Flatten())\n",
    "model.add(Dense(4, activation='softmax'))\n",
    "\n",
    "model.summary()"
   ]
  },
  {
   "cell_type": "markdown",
   "metadata": {},
   "source": [
    "\n",
    "### Compile the model"
   ]
  },
  {
   "cell_type": "code",
   "execution_count": 15,
   "metadata": {
    "execution": {
     "iopub.execute_input": "2022-11-26T00:46:01.541478Z",
     "iopub.status.busy": "2022-11-26T00:46:01.541118Z",
     "iopub.status.idle": "2022-11-26T00:46:01.554316Z",
     "shell.execute_reply": "2022-11-26T00:46:01.552934Z",
     "shell.execute_reply.started": "2022-11-26T00:46:01.541446Z"
    }
   },
   "outputs": [],
   "source": [
    "# model.compile(loss = keras.losses.categorical_crossentropy, optimizer = keras.optimizers.adadelta_v2.Adadelta(), metrics = ['accuracy'])\n",
    "model.compile(optimizer='adam', loss='sparse_categorical_crossentropy', metrics=['accuracy'])"
   ]
  },
  {
   "cell_type": "markdown",
   "metadata": {},
   "source": [
    "### Train the model"
   ]
  },
  {
   "cell_type": "code",
   "execution_count": 16,
   "metadata": {
    "execution": {
     "iopub.execute_input": "2022-11-26T00:46:01.556186Z",
     "iopub.status.busy": "2022-11-26T00:46:01.555827Z",
     "iopub.status.idle": "2022-11-26T00:55:07.436739Z",
     "shell.execute_reply": "2022-11-26T00:55:07.435254Z",
     "shell.execute_reply.started": "2022-11-26T00:46:01.556137Z"
    }
   },
   "outputs": [
    {
     "name": "stdout",
     "output_type": "stream",
     "text": [
      "Epoch 1/10\n",
      "90/90 [==============================] - 55s 608ms/step - loss: 1.0985 - accuracy: 0.5258 - val_loss: 1.8927 - val_accuracy: 0.2893\n",
      "Epoch 2/10\n",
      "90/90 [==============================] - 54s 603ms/step - loss: 0.8530 - accuracy: 0.6456 - val_loss: 2.3986 - val_accuracy: 0.3046\n",
      "Epoch 3/10\n",
      "90/90 [==============================] - 54s 604ms/step - loss: 0.6782 - accuracy: 0.7282 - val_loss: 2.3786 - val_accuracy: 0.4315\n",
      "Epoch 4/10\n",
      "90/90 [==============================] - 55s 607ms/step - loss: 0.6023 - accuracy: 0.7631 - val_loss: 2.8075 - val_accuracy: 0.4594\n",
      "Epoch 5/10\n",
      "90/90 [==============================] - 55s 608ms/step - loss: 0.5752 - accuracy: 0.7829 - val_loss: 2.4305 - val_accuracy: 0.5406\n",
      "Epoch 6/10\n",
      "90/90 [==============================] - 55s 607ms/step - loss: 0.5041 - accuracy: 0.8052 - val_loss: 2.5017 - val_accuracy: 0.5609\n",
      "Epoch 7/10\n",
      "90/90 [==============================] - 54s 603ms/step - loss: 0.4117 - accuracy: 0.8456 - val_loss: 3.1695 - val_accuracy: 0.5102\n",
      "Epoch 8/10\n",
      "90/90 [==============================] - 54s 604ms/step - loss: 0.3717 - accuracy: 0.8585 - val_loss: 3.2334 - val_accuracy: 0.5964\n",
      "Epoch 9/10\n",
      "90/90 [==============================] - 54s 605ms/step - loss: 0.3340 - accuracy: 0.8749 - val_loss: 3.0013 - val_accuracy: 0.5914\n",
      "Epoch 10/10\n",
      "90/90 [==============================] - 54s 604ms/step - loss: 0.3426 - accuracy: 0.8704 - val_loss: 3.3895 - val_accuracy: 0.6497\n"
     ]
    },
    {
     "data": {
      "text/plain": [
       "<keras.callbacks.History at 0x7f982809b2d0>"
      ]
     },
     "execution_count": 16,
     "metadata": {},
     "output_type": "execute_result"
    }
   ],
   "source": [
    "model.fit(train_img, train_labels, validation_data = (test_img, test_labels), epochs = 10)"
   ]
  },
  {
   "cell_type": "markdown",
   "metadata": {},
   "source": [
    "### Evaluate the model"
   ]
  },
  {
   "cell_type": "code",
   "execution_count": 17,
   "metadata": {
    "execution": {
     "iopub.execute_input": "2022-11-26T00:55:07.439471Z",
     "iopub.status.busy": "2022-11-26T00:55:07.438665Z",
     "iopub.status.idle": "2022-11-26T00:55:12.145315Z",
     "shell.execute_reply": "2022-11-26T00:55:12.144324Z",
     "shell.execute_reply.started": "2022-11-26T00:55:07.439405Z"
    }
   },
   "outputs": [
    {
     "name": "stdout",
     "output_type": "stream",
     "text": [
      "Test loss: 3.3895232677459717\n",
      "Test accuracy: 0.6497461795806885\n",
      "[0 0 0 3 3 3 3 3 0 0 0 3 3 0 0 0 2 2 3 0 0 1 1 0 3 3 3 1 1 0 3 2 3 0 3 3 0\n",
      " 0 0 3 0 3 3 0 0 0 3 3 0 3 0 3 3 1 3 3 3 0 1 3 1 3 3 1 2 3 1 1 3 0 3 3 3 0\n",
      " 0 3 3 1 3 2 0 3 3 0 3 3 3 0 3 3 2 3 3 3 1 0 3 0 0 0 3 3 0 3 3 3 3 3 3 3 3\n",
      " 3 3 3 3 3 3 3 3 3 3 3 3 3 3 3 3 3 3 3 3 3 3 3 3 3 3 3 3 3 3 3 3 3 3 3 3 3\n",
      " 3 3 3 3 3 3 3 0 3 3 3 3 3 3 3 3 3 3 3 3 3 3 3 3 3 3 3 3 3 3 3 3 3 3 3 0 3\n",
      " 3 3 3 3 3 3 3 3 3 3 3 3 3 3 3 3 3 3 3 3 3 3 3 3 0 3 3 3 3 3 0 0 0 0 0 0 0\n",
      " 0 0 0 0 0 0 0 0 0 0 0 0 0 0 0 0 3 0 3 0 0 0 0 0 0 0 0 0 0 0 0 3 0 3 3 0 0\n",
      " 0 0 0 2 0 0 0 0 0 0 0 0 0 3 0 3 0 3 0 3 0 0 0 0 3 0 0 3 0 0 0 0 0 0 3 0 3\n",
      " 0 0 0 0 0 0 0 3 3 3 0 0 0 0 0 0 0 0 0 0 0 0 0 0 2 3 2 2 2 2 2 3 2 3 3 2 2\n",
      " 2 3 2 2 3 3 3 3 2 2 3 2 2 2 2 2 3 2 2 2 3 2 3 3 2 3 3 2 2 3 3 3 2 2 2 2 2\n",
      " 2 2 3 2 3 2 2 3 3 2 3 2 3 3 2 3 2 2 3 2 2 2 2 3]\n"
     ]
    }
   ],
   "source": [
    "score = model.evaluate(test_img, test_labels, verbose = 0) \n",
    "\n",
    "print('Test loss:', score[0]) \n",
    "print('Test accuracy:', score[1])\n",
    "\n",
    "y_prob = model.predict(test_img)\n",
    "y_pred = np.argmax(y_prob, axis = 1)\n",
    "print(y_pred)"
   ]
  },
  {
   "cell_type": "code",
   "execution_count": 18,
   "metadata": {
    "execution": {
     "iopub.execute_input": "2022-11-26T00:55:12.146756Z",
     "iopub.status.busy": "2022-11-26T00:55:12.146361Z",
     "iopub.status.idle": "2022-11-26T00:55:12.171846Z",
     "shell.execute_reply": "2022-11-26T00:55:12.170868Z",
     "shell.execute_reply.started": "2022-11-26T00:55:12.146723Z"
    }
   },
   "outputs": [
    {
     "name": "stdout",
     "output_type": "stream",
     "text": [
      "              precision    recall  f1-score   support\n",
      "\n",
      "           0       0.70      0.84      0.76       105\n",
      "           1       1.00      0.12      0.21       100\n",
      "           2       0.87      0.61      0.71        74\n",
      "           3       0.54      0.97      0.70       115\n",
      "\n",
      "    accuracy                           0.65       394\n",
      "   macro avg       0.78      0.63      0.60       394\n",
      "weighted avg       0.76      0.65      0.59       394\n",
      "\n",
      "roc =  0.8239758415145373\n"
     ]
    }
   ],
   "source": [
    "from sklearn.metrics import classification_report\n",
    "\n",
    "print(classification_report(test_labels, y_pred, zero_division=0))\n",
    "\n",
    "precision = precision_score(test_labels, y_pred, average = \"weighted\", zero_division = 0)\n",
    "recall = recall_score(test_labels, y_pred, average = \"weighted\", zero_division = 0)\n",
    "f1 = f1_score(test_labels, y_pred, average = \"weighted\", zero_division = 0)\n",
    "roc = roc_auc_score(test_labels, y_prob, average = \"weighted\", multi_class=\"ovr\")\n",
    "print(\"roc = \", roc)"
   ]
  },
  {
   "cell_type": "markdown",
   "metadata": {
    "execution": {
     "iopub.execute_input": "2022-11-23T02:15:23.947416Z",
     "iopub.status.busy": "2022-11-23T02:15:23.947019Z",
     "iopub.status.idle": "2022-11-23T02:15:23.954849Z",
     "shell.execute_reply": "2022-11-23T02:15:23.953379Z",
     "shell.execute_reply.started": "2022-11-23T02:15:23.947384Z"
    }
   },
   "source": [
    "Even worse than random classifier. Never predicts class 0 and class 1. When it should predict class 2, it does though. Somehow the less predominant class is the most predicted."
   ]
  },
  {
   "cell_type": "markdown",
   "metadata": {},
   "source": [
    "## Architecture 2"
   ]
  },
  {
   "cell_type": "code",
   "execution_count": 19,
   "metadata": {
    "execution": {
     "iopub.execute_input": "2022-11-26T00:55:12.175500Z",
     "iopub.status.busy": "2022-11-26T00:55:12.174802Z",
     "iopub.status.idle": "2022-11-26T00:55:12.257175Z",
     "shell.execute_reply": "2022-11-26T00:55:12.256246Z",
     "shell.execute_reply.started": "2022-11-26T00:55:12.175464Z"
    }
   },
   "outputs": [
    {
     "name": "stdout",
     "output_type": "stream",
     "text": [
      "Model: \"sequential_2\"\n",
      "_________________________________________________________________\n",
      "Layer (type)                 Output Shape              Param #   \n",
      "=================================================================\n",
      "conv2d_6 (Conv2D)            (None, 253, 253, 25)      250       \n",
      "_________________________________________________________________\n",
      "average_pooling2d_6 (Average (None, 125, 125, 25)      0         \n",
      "_________________________________________________________________\n",
      "conv2d_7 (Conv2D)            (None, 123, 123, 10)      2260      \n",
      "_________________________________________________________________\n",
      "average_pooling2d_7 (Average (None, 60, 60, 10)        0         \n",
      "_________________________________________________________________\n",
      "conv2d_8 (Conv2D)            (None, 59, 59, 8)         328       \n",
      "_________________________________________________________________\n",
      "average_pooling2d_8 (Average (None, 29, 29, 8)         0         \n",
      "_________________________________________________________________\n",
      "flatten_2 (Flatten)          (None, 6728)              0         \n",
      "_________________________________________________________________\n",
      "dense_2 (Dense)              (None, 16)                107664    \n",
      "_________________________________________________________________\n",
      "dense_3 (Dense)              (None, 8)                 136       \n",
      "_________________________________________________________________\n",
      "dense_4 (Dense)              (None, 4)                 36        \n",
      "=================================================================\n",
      "Total params: 110,674\n",
      "Trainable params: 110,674\n",
      "Non-trainable params: 0\n",
      "_________________________________________________________________\n"
     ]
    }
   ],
   "source": [
    "model = Sequential() \n",
    "\n",
    "model.add(Conv2D(25, kernel_size = 3, activation='relu', input_shape=(255, 255, 1), strides = 1))\n",
    "model.add(AveragePooling2D(pool_size = 5, strides = 2))\n",
    "\n",
    "model.add(Conv2D(10, kernel_size = 3, activation='relu', strides = 1))\n",
    "model.add(AveragePooling2D(pool_size = 5, strides = 2))\n",
    "\n",
    "model.add(Conv2D(8, kernel_size = 2, activation='relu', strides = 1))\n",
    "model.add(AveragePooling2D(pool_size = 2, strides = 2))\n",
    "\n",
    "model.add(Flatten())\n",
    "model.add(Dense(16, activation='relu'))\n",
    "model.add(Dense(8, activation='relu'))\n",
    "model.add(Dense(4, activation='softmax'))\n",
    "\n",
    "model.summary()"
   ]
  },
  {
   "cell_type": "code",
   "execution_count": 20,
   "metadata": {
    "execution": {
     "iopub.execute_input": "2022-11-26T00:55:12.259347Z",
     "iopub.status.busy": "2022-11-26T00:55:12.258655Z",
     "iopub.status.idle": "2022-11-26T00:59:51.567106Z",
     "shell.execute_reply": "2022-11-26T00:59:51.566289Z",
     "shell.execute_reply.started": "2022-11-26T00:55:12.259311Z"
    }
   },
   "outputs": [
    {
     "name": "stdout",
     "output_type": "stream",
     "text": [
      "Epoch 1/10\n",
      "90/90 [==============================] - 29s 314ms/step - loss: 1.1892 - accuracy: 0.4589 - val_loss: 1.8714 - val_accuracy: 0.2310\n",
      "Epoch 2/10\n",
      "90/90 [==============================] - 27s 301ms/step - loss: 0.9043 - accuracy: 0.6216 - val_loss: 1.6729 - val_accuracy: 0.3909\n",
      "Epoch 3/10\n",
      "90/90 [==============================] - 28s 308ms/step - loss: 0.7520 - accuracy: 0.6944 - val_loss: 1.5534 - val_accuracy: 0.3858\n",
      "Epoch 4/10\n",
      "90/90 [==============================] - 28s 309ms/step - loss: 0.6648 - accuracy: 0.7289 - val_loss: 1.6312 - val_accuracy: 0.4772\n",
      "Epoch 5/10\n",
      "90/90 [==============================] - 28s 311ms/step - loss: 0.5651 - accuracy: 0.7847 - val_loss: 1.7495 - val_accuracy: 0.4619\n",
      "Epoch 6/10\n",
      "90/90 [==============================] - 28s 312ms/step - loss: 0.5002 - accuracy: 0.8024 - val_loss: 1.8391 - val_accuracy: 0.4391\n",
      "Epoch 7/10\n",
      "90/90 [==============================] - 28s 311ms/step - loss: 0.4158 - accuracy: 0.8456 - val_loss: 2.1332 - val_accuracy: 0.5152\n",
      "Epoch 8/10\n",
      "90/90 [==============================] - 27s 305ms/step - loss: 0.3662 - accuracy: 0.8568 - val_loss: 2.2152 - val_accuracy: 0.5102\n",
      "Epoch 9/10\n",
      "90/90 [==============================] - 28s 310ms/step - loss: 0.3263 - accuracy: 0.8822 - val_loss: 2.8442 - val_accuracy: 0.4873\n",
      "Epoch 10/10\n",
      "90/90 [==============================] - 27s 304ms/step - loss: 0.2804 - accuracy: 0.9014 - val_loss: 2.9972 - val_accuracy: 0.4797\n"
     ]
    },
    {
     "data": {
      "text/plain": [
       "<keras.callbacks.History at 0x7f981c354810>"
      ]
     },
     "execution_count": 20,
     "metadata": {},
     "output_type": "execute_result"
    }
   ],
   "source": [
    "model.compile(optimizer='adam', loss='sparse_categorical_crossentropy', metrics=['accuracy'])\n",
    "model.fit(train_img, train_labels, validation_data = (test_img, test_labels), epochs = 10)"
   ]
  },
  {
   "cell_type": "code",
   "execution_count": 21,
   "metadata": {
    "execution": {
     "iopub.execute_input": "2022-11-26T00:59:51.568871Z",
     "iopub.status.busy": "2022-11-26T00:59:51.568247Z",
     "iopub.status.idle": "2022-11-26T00:59:54.063448Z",
     "shell.execute_reply": "2022-11-26T00:59:54.062145Z",
     "shell.execute_reply.started": "2022-11-26T00:59:51.568837Z"
    }
   },
   "outputs": [
    {
     "name": "stdout",
     "output_type": "stream",
     "text": [
      "Test loss: 2.997210741043091\n",
      "Test accuracy: 0.4796954393386841\n",
      "[0 0 0 3 1 1 0 3 0 0 3 0 3 0 0 0 2 2 3 0 3 1 1 3 0 1 0 1 1 0 0 3 3 0 0 0 0\n",
      " 0 0 0 0 3 3 0 0 0 3 0 0 1 0 0 0 1 1 1 0 2 3 3 1 3 0 3 3 0 1 1 0 0 3 3 0 0\n",
      " 3 1 3 1 0 0 3 0 0 3 3 3 3 0 3 0 3 3 0 3 1 3 0 0 0 0 3 3 0 3 0 0 0 0 0 3 3\n",
      " 3 1 3 0 0 0 0 0 0 3 3 3 0 0 0 0 3 0 0 0 0 3 0 3 0 3 3 0 0 0 3 3 3 3 3 3 3\n",
      " 3 3 0 0 0 0 0 3 0 3 0 0 0 3 3 0 0 0 3 0 0 0 3 0 3 3 3 3 0 0 3 0 0 0 0 0 3\n",
      " 0 3 3 0 3 3 3 0 3 0 3 3 0 3 3 0 0 0 3 0 3 0 0 0 3 3 0 0 0 3 0 0 0 0 0 0 0\n",
      " 0 0 0 0 0 0 0 0 0 0 3 1 0 3 0 0 3 0 0 2 0 0 0 0 0 0 0 3 0 0 0 0 0 3 0 0 0\n",
      " 0 0 0 2 0 0 0 0 0 0 0 0 0 0 0 0 0 3 0 0 0 0 0 0 0 0 0 0 0 0 0 0 0 0 0 0 0\n",
      " 0 0 0 0 0 0 0 0 3 0 0 0 0 0 0 0 0 0 0 0 0 0 0 0 0 0 0 0 0 2 2 2 2 3 3 2 0\n",
      " 0 1 2 2 0 2 3 2 2 2 0 2 0 2 0 0 0 3 0 2 2 0 3 3 3 3 0 0 0 2 3 0 0 2 0 3 0\n",
      " 0 2 2 3 0 2 0 1 2 0 0 0 0 2 2 0 3 2 0 2 0 3 2 0]\n",
      "              precision    recall  f1-score   support\n",
      "\n",
      "           0       0.40      0.90      0.55       105\n",
      "           1       0.81      0.17      0.28       100\n",
      "           2       0.84      0.35      0.50        74\n",
      "           3       0.50      0.44      0.47       115\n",
      "\n",
      "    accuracy                           0.48       394\n",
      "   macro avg       0.64      0.47      0.45       394\n",
      "weighted avg       0.61      0.48      0.45       394\n",
      "\n",
      "roc =  0.7164174748500137\n"
     ]
    }
   ],
   "source": [
    "score = model.evaluate(test_img, test_labels, verbose = 0) \n",
    "\n",
    "print('Test loss:', score[0]) \n",
    "print('Test accuracy:', score[1])\n",
    "\n",
    "y_prob = model.predict(test_img)\n",
    "y_pred = np.argmax(y_prob, axis = 1)\n",
    "print(y_pred)\n",
    "\n",
    "print(classification_report(test_labels, y_pred, zero_division=0))\n",
    "\n",
    "precision = precision_score(test_labels, y_pred, average = \"weighted\", zero_division = 0)\n",
    "recall = recall_score(test_labels, y_pred, average = \"weighted\", zero_division = 0)\n",
    "f1 = f1_score(test_labels, y_pred, average = \"weighted\", zero_division = 0)\n",
    "roc = roc_auc_score(test_labels, y_prob, average = \"weighted\", multi_class=\"ovr\")\n",
    "print(\"roc = \", roc)"
   ]
  },
  {
   "cell_type": "markdown",
   "metadata": {},
   "source": [
    "## Architecture 3"
   ]
  },
  {
   "cell_type": "code",
   "execution_count": 22,
   "metadata": {
    "execution": {
     "iopub.execute_input": "2022-11-26T00:59:54.064975Z",
     "iopub.status.busy": "2022-11-26T00:59:54.064657Z",
     "iopub.status.idle": "2022-11-26T00:59:54.172741Z",
     "shell.execute_reply": "2022-11-26T00:59:54.171470Z",
     "shell.execute_reply.started": "2022-11-26T00:59:54.064948Z"
    }
   },
   "outputs": [
    {
     "name": "stdout",
     "output_type": "stream",
     "text": [
      "Model: \"sequential_3\"\n",
      "_________________________________________________________________\n",
      "Layer (type)                 Output Shape              Param #   \n",
      "=================================================================\n",
      "conv2d_9 (Conv2D)            (None, 253, 253, 35)      350       \n",
      "_________________________________________________________________\n",
      "average_pooling2d_9 (Average (None, 251, 251, 35)      0         \n",
      "_________________________________________________________________\n",
      "conv2d_10 (Conv2D)           (None, 249, 249, 20)      6320      \n",
      "_________________________________________________________________\n",
      "average_pooling2d_10 (Averag (None, 247, 247, 20)      0         \n",
      "_________________________________________________________________\n",
      "conv2d_11 (Conv2D)           (None, 246, 246, 10)      810       \n",
      "_________________________________________________________________\n",
      "average_pooling2d_11 (Averag (None, 123, 123, 10)      0         \n",
      "_________________________________________________________________\n",
      "conv2d_12 (Conv2D)           (None, 122, 122, 8)       328       \n",
      "_________________________________________________________________\n",
      "average_pooling2d_12 (Averag (None, 61, 61, 8)         0         \n",
      "_________________________________________________________________\n",
      "flatten_3 (Flatten)          (None, 29768)             0         \n",
      "_________________________________________________________________\n",
      "dense_5 (Dense)              (None, 64)                1905216   \n",
      "_________________________________________________________________\n",
      "dense_6 (Dense)              (None, 32)                2080      \n",
      "_________________________________________________________________\n",
      "dense_7 (Dense)              (None, 4)                 132       \n",
      "=================================================================\n",
      "Total params: 1,915,236\n",
      "Trainable params: 1,915,236\n",
      "Non-trainable params: 0\n",
      "_________________________________________________________________\n"
     ]
    }
   ],
   "source": [
    "model = Sequential() \n",
    "\n",
    "model.add(Conv2D(35, kernel_size = 3, activation='relu', input_shape=(255, 255, 1), strides = 1))\n",
    "model.add(AveragePooling2D(pool_size = 3, strides = 1))\n",
    "\n",
    "model.add(Conv2D(20, kernel_size = 3, activation='relu', strides = 1))\n",
    "model.add(AveragePooling2D(pool_size = 3, strides = 1))\n",
    "\n",
    "model.add(Conv2D(10, kernel_size = 2, activation='relu', strides = 1))\n",
    "model.add(AveragePooling2D(pool_size = 2, strides = 2))\n",
    "\n",
    "model.add(Conv2D(8, kernel_size = 2, activation='relu', strides = 1))\n",
    "model.add(AveragePooling2D(pool_size = 2, strides = 2))\n",
    "\n",
    "model.add(Flatten())\n",
    "model.add(Dense(64, activation='relu'))\n",
    "model.add(Dense(32, activation='relu'))\n",
    "model.add(Dense(4, activation='softmax'))\n",
    "\n",
    "model.summary()"
   ]
  },
  {
   "cell_type": "code",
   "execution_count": 23,
   "metadata": {
    "execution": {
     "iopub.execute_input": "2022-11-26T00:59:54.174578Z",
     "iopub.status.busy": "2022-11-26T00:59:54.174108Z",
     "iopub.status.idle": "2022-11-26T01:13:44.078114Z",
     "shell.execute_reply": "2022-11-26T01:13:44.077130Z",
     "shell.execute_reply.started": "2022-11-26T00:59:54.174535Z"
    }
   },
   "outputs": [
    {
     "name": "stdout",
     "output_type": "stream",
     "text": [
      "Epoch 1/5\n",
      "90/90 [==============================] - 167s 2s/step - loss: 1.1114 - accuracy: 0.5202 - val_loss: 1.6840 - val_accuracy: 0.3528\n",
      "Epoch 2/5\n",
      "90/90 [==============================] - 166s 2s/step - loss: 0.7149 - accuracy: 0.7063 - val_loss: 2.0456 - val_accuracy: 0.5000\n",
      "Epoch 3/5\n",
      "90/90 [==============================] - 165s 2s/step - loss: 0.4624 - accuracy: 0.8105 - val_loss: 1.8276 - val_accuracy: 0.5787\n",
      "Epoch 4/5\n",
      "90/90 [==============================] - 166s 2s/step - loss: 0.2846 - accuracy: 0.8920 - val_loss: 2.0302 - val_accuracy: 0.6904\n",
      "Epoch 5/5\n",
      "90/90 [==============================] - 165s 2s/step - loss: 0.1648 - accuracy: 0.9397 - val_loss: 2.6422 - val_accuracy: 0.6929\n"
     ]
    },
    {
     "data": {
      "text/plain": [
       "<keras.callbacks.History at 0x7f9802fed450>"
      ]
     },
     "execution_count": 23,
     "metadata": {},
     "output_type": "execute_result"
    }
   ],
   "source": [
    "model.compile(optimizer='adam', loss='sparse_categorical_crossentropy', metrics=['accuracy'])\n",
    "model.fit(train_img, train_labels, validation_data = (test_img, test_labels), epochs = 5)"
   ]
  },
  {
   "cell_type": "code",
   "execution_count": 24,
   "metadata": {
    "execution": {
     "iopub.execute_input": "2022-11-26T01:13:44.080767Z",
     "iopub.status.busy": "2022-11-26T01:13:44.079919Z",
     "iopub.status.idle": "2022-11-26T01:13:52.816110Z",
     "shell.execute_reply": "2022-11-26T01:13:52.814906Z",
     "shell.execute_reply.started": "2022-11-26T01:13:44.080722Z"
    }
   },
   "outputs": [
    {
     "name": "stdout",
     "output_type": "stream",
     "text": [
      "Test loss: 2.642218828201294\n",
      "Test accuracy: 0.692893385887146\n",
      "[0 0 0 3 3 1 3 3 0 0 0 0 3 0 0 0 2 0 3 0 0 1 0 0 2 1 2 1 1 0 2 2 3 0 0 0 0\n",
      " 0 0 0 0 0 0 0 0 0 0 2 0 1 0 0 0 1 3 1 0 0 0 3 1 3 0 0 2 0 1 1 0 0 3 3 0 0\n",
      " 0 1 3 1 0 3 0 3 3 0 0 1 0 0 1 0 3 3 3 3 1 0 0 0 0 0 0 3 3 3 3 3 3 3 3 3 3\n",
      " 0 3 3 3 3 0 3 3 3 3 3 0 3 3 3 0 3 3 3 3 3 3 3 3 0 3 3 3 3 3 3 3 3 3 3 3 3\n",
      " 3 3 0 3 3 3 3 1 3 3 3 3 3 3 3 3 3 3 3 3 3 0 3 0 3 3 3 3 3 3 3 3 0 3 3 3 3\n",
      " 3 3 3 0 3 0 3 0 3 0 3 3 3 3 3 3 3 3 3 3 3 0 3 3 0 3 3 3 3 3 0 0 0 0 0 0 0\n",
      " 0 0 0 0 0 0 0 0 0 0 0 0 0 0 0 0 0 0 0 0 0 0 0 0 0 0 0 0 0 0 0 0 0 0 0 0 0\n",
      " 0 0 0 0 0 0 0 0 0 0 0 0 0 0 0 0 0 0 0 0 0 0 0 0 0 0 0 0 0 0 0 0 0 0 0 0 0\n",
      " 0 0 0 0 0 0 0 0 0 0 0 0 0 0 0 0 0 0 0 0 0 0 0 0 2 2 2 2 2 2 2 3 2 3 3 2 2\n",
      " 2 0 2 2 2 0 2 3 2 2 2 2 2 2 2 2 2 2 2 2 0 0 3 3 3 3 2 2 2 2 3 2 2 2 2 2 2\n",
      " 2 2 0 2 2 2 0 0 0 0 2 2 2 0 2 2 3 2 2 2 2 2 2 2]\n",
      "              precision    recall  f1-score   support\n",
      "\n",
      "           0       0.56      1.00      0.72       105\n",
      "           1       0.94      0.16      0.27       100\n",
      "           2       0.89      0.73      0.80        74\n",
      "           3       0.77      0.85      0.81       115\n",
      "\n",
      "    accuracy                           0.69       394\n",
      "   macro avg       0.79      0.69      0.65       394\n",
      "weighted avg       0.78      0.69      0.65       394\n",
      "\n",
      "roc =  0.8598887920793427\n"
     ]
    }
   ],
   "source": [
    "score = model.evaluate(test_img, test_labels, verbose = 0) \n",
    "\n",
    "print('Test loss:', score[0]) \n",
    "print('Test accuracy:', score[1])\n",
    "\n",
    "y_prob = model.predict(test_img)\n",
    "y_pred = np.argmax(y_prob, axis = 1)\n",
    "print(y_pred)\n",
    "\n",
    "print(classification_report(test_labels, y_pred, zero_division=0))\n",
    "\n",
    "precision = precision_score(test_labels, y_pred, average = \"weighted\", zero_division = 0)\n",
    "recall = recall_score(test_labels, y_pred, average = \"weighted\", zero_division = 0)\n",
    "f1 = f1_score(test_labels, y_pred, average = \"weighted\", zero_division = 0)\n",
    "roc = roc_auc_score(test_labels, y_prob, average = \"weighted\", multi_class=\"ovr\")\n",
    "print(\"roc = \", roc)"
   ]
  },
  {
   "cell_type": "code",
   "execution_count": null,
   "metadata": {},
   "outputs": [],
   "source": []
  }
 ],
 "metadata": {
  "kernelspec": {
   "display_name": "Python 3 (ipykernel)",
   "language": "python",
   "name": "python3"
  },
  "language_info": {
   "codemirror_mode": {
    "name": "ipython",
    "version": 3
   },
   "file_extension": ".py",
   "mimetype": "text/x-python",
   "name": "python",
   "nbconvert_exporter": "python",
   "pygments_lexer": "ipython3",
   "version": "3.9.7"
  }
 },
 "nbformat": 4,
 "nbformat_minor": 4
}
