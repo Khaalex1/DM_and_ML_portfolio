{
 "cells": [
  {
   "cell_type": "code",
   "execution_count": null,
   "metadata": {
    "_cell_guid": "b1076dfc-b9ad-4769-8c92-a6c4dae69d19",
    "_uuid": "8f2839f25d086af736a60e9eeb907d3b93b6e0e5",
    "execution": {
     "iopub.execute_input": "2022-10-28T15:42:58.211243Z",
     "iopub.status.busy": "2022-10-28T15:42:58.210819Z",
     "iopub.status.idle": "2022-10-28T15:42:58.219089Z",
     "shell.execute_reply": "2022-10-28T15:42:58.217555Z",
     "shell.execute_reply.started": "2022-10-28T15:42:58.211208Z"
    }
   },
   "outputs": [],
   "source": [
    "import os\n",
    "import cv2\n",
    "import random\n",
    "import numpy as np \n",
    "import pandas as pd \n",
    "import seaborn as sns\n",
    "\n",
    "# Scikit-Learn ≥0.20 is required\n",
    "import sklearn\n",
    "assert sklearn.__version__ >= \"0.20\"\n",
    "\n",
    "# To plot pretty figures\n",
    "%matplotlib inline\n",
    "import matplotlib as mlp\n",
    "import matplotlib.pyplot as plt"
   ]
  },
  {
   "cell_type": "markdown",
   "metadata": {},
   "source": [
    "## Data Loading"
   ]
  },
  {
   "cell_type": "code",
   "execution_count": null,
   "metadata": {
    "execution": {
     "iopub.execute_input": "2022-10-28T15:42:58.222253Z",
     "iopub.status.busy": "2022-10-28T15:42:58.221894Z",
     "iopub.status.idle": "2022-10-28T15:43:12.290526Z",
     "shell.execute_reply": "2022-10-28T15:43:12.288621Z",
     "shell.execute_reply.started": "2022-10-28T15:42:58.222221Z"
    }
   },
   "outputs": [],
   "source": [
    "labels = ['glioma_tumor', 'meningioma_tumor', 'no_tumor', 'pituitary_tumor']\n",
    "train_img = [] #contains the images used for training the model\n",
    "train_labels = [] #label of each image in x_train \n",
    "PATH = 'archive/Training'\n",
    "\n",
    "for label in labels:\n",
    "    img_dir = os.path.join(PATH, label)\n",
    "    for img_file in os.listdir(img_dir):\n",
    "        img = cv2.imread(f'{img_dir}/{img_file}')\n",
    "        train_img.append(img)\n",
    "        train_labels.append(label)\n",
    "        \n",
    "new_size = (255, 255)\n",
    "\n",
    "for i in range(len(train_img)):\n",
    "    img = train_img[i] \n",
    "    train_img[i] = cv2.resize(img, new_size)\n",
    "    train_img[i] = cv2.cvtColor(train_img[i], cv2.COLOR_RGB2GRAY)/255\n",
    "\n",
    "train_img = np.stack(train_img)\n",
    "train_labels = np.stack(train_labels)\n",
    "\n",
    "print(\"train_img shape : \", train_img.shape)\n",
    "print(\"train_labels shape : \", train_labels.shape)\n",
    "\n",
    "class_map = {\n",
    "    'no_tumor': 0,\n",
    "    'glioma_tumor': 1,\n",
    "    'pituitary_tumor': 2,\n",
    "    'meningioma_tumor': 3\n",
    "}\n",
    "\n",
    "\n",
    "train_labels = np.array([class_map[label] for label in train_labels])\n",
    "test_labels = np.array([class_map[label] for label in test_labels])"
   ]
  },
  {
   "cell_type": "code",
   "execution_count": null,
   "metadata": {
    "execution": {
     "iopub.execute_input": "2022-10-28T15:43:12.293961Z",
     "iopub.status.busy": "2022-10-28T15:43:12.293469Z",
     "iopub.status.idle": "2022-10-28T15:43:13.893535Z",
     "shell.execute_reply": "2022-10-28T15:43:13.891846Z",
     "shell.execute_reply.started": "2022-10-28T15:43:12.293920Z"
    }
   },
   "outputs": [],
   "source": [
    "from sklearn.preprocessing import StandardScaler #the Standard Scaler : X2 = (X1 - E(X1))/sqrt(Var(X1))\n",
    "from sklearn.decomposition import PCA\n",
    "\n",
    "train_img = train_img.reshape((train_img.shape[0], 255*255))\n",
    "test_img = test_img.reshape((test_img.shape[0], 255*255))\n",
    "S = StandardScaler()\n",
    "X_train = S.fit_transform(train_img)\n",
    "X_test = S.transform(test_img)"
   ]
  },
  {
   "cell_type": "code",
   "execution_count": null,
   "metadata": {
    "execution": {
     "iopub.execute_input": "2022-10-28T15:43:13.895583Z",
     "iopub.status.busy": "2022-10-28T15:43:13.895121Z",
     "iopub.status.idle": "2022-10-28T15:43:41.079463Z",
     "shell.execute_reply": "2022-10-28T15:43:41.078637Z",
     "shell.execute_reply.started": "2022-10-28T15:43:13.895541Z"
    }
   },
   "outputs": [],
   "source": [
    "n_comp = np.arange(2, 402, 20)\n",
    "pca = PCA(n_components = 402)\n",
    "pca_train = pca.fit_transform(X_train)\n",
    "pca_test = pca.transform(X_test)\n",
    "\n",
    "X = pca_train[:,:2]"
   ]
  },
  {
   "cell_type": "markdown",
   "metadata": {},
   "source": [
    "## KMeans\n",
    "\n",
    "Fit and Predict: Training K-Means clusterer on the dataset to find the centroid of each class and assign each instance to the nearest centriod "
   ]
  },
  {
   "cell_type": "code",
   "execution_count": null,
   "metadata": {
    "execution": {
     "iopub.execute_input": "2022-10-28T15:43:41.082506Z",
     "iopub.status.busy": "2022-10-28T15:43:41.081916Z",
     "iopub.status.idle": "2022-10-28T15:43:41.086564Z",
     "shell.execute_reply": "2022-10-28T15:43:41.085983Z",
     "shell.execute_reply.started": "2022-10-28T15:43:41.082471Z"
    }
   },
   "outputs": [],
   "source": [
    "from sklearn.cluster import KMeans"
   ]
  },
  {
   "cell_type": "code",
   "execution_count": null,
   "metadata": {
    "execution": {
     "iopub.execute_input": "2022-10-28T15:43:41.088465Z",
     "iopub.status.busy": "2022-10-28T15:43:41.087907Z",
     "iopub.status.idle": "2022-10-28T15:43:41.256921Z",
     "shell.execute_reply": "2022-10-28T15:43:41.255993Z",
     "shell.execute_reply.started": "2022-10-28T15:43:41.088431Z"
    }
   },
   "outputs": [],
   "source": [
    "k = 4\n",
    "kmeans = KMeans(n_clusters=k,random_state=42)\n",
    "y_pred = kmeans.fit_predict(X)"
   ]
  },
  {
   "cell_type": "code",
   "execution_count": null,
   "metadata": {
    "execution": {
     "iopub.execute_input": "2022-10-28T15:43:41.258443Z",
     "iopub.status.busy": "2022-10-28T15:43:41.258123Z",
     "iopub.status.idle": "2022-10-28T15:43:41.265554Z",
     "shell.execute_reply": "2022-10-28T15:43:41.264630Z",
     "shell.execute_reply.started": "2022-10-28T15:43:41.258413Z"
    }
   },
   "outputs": [],
   "source": [
    "y_pred"
   ]
  },
  {
   "cell_type": "code",
   "execution_count": null,
   "metadata": {
    "execution": {
     "iopub.execute_input": "2022-10-28T15:43:41.267789Z",
     "iopub.status.busy": "2022-10-28T15:43:41.266942Z",
     "iopub.status.idle": "2022-10-28T15:43:41.281261Z",
     "shell.execute_reply": "2022-10-28T15:43:41.280128Z",
     "shell.execute_reply.started": "2022-10-28T15:43:41.267703Z"
    }
   },
   "outputs": [],
   "source": [
    "kmeans.cluster_centers_"
   ]
  },
  {
   "cell_type": "code",
   "execution_count": null,
   "metadata": {
    "execution": {
     "iopub.execute_input": "2022-10-28T15:43:41.282925Z",
     "iopub.status.busy": "2022-10-28T15:43:41.282584Z",
     "iopub.status.idle": "2022-10-28T15:43:41.298434Z",
     "shell.execute_reply": "2022-10-28T15:43:41.297117Z",
     "shell.execute_reply.started": "2022-10-28T15:43:41.282896Z"
    }
   },
   "outputs": [],
   "source": [
    "kmeans.predict(pca_test[:,:2])"
   ]
  },
  {
   "cell_type": "code",
   "execution_count": null,
   "metadata": {
    "execution": {
     "iopub.execute_input": "2022-10-28T15:43:41.301131Z",
     "iopub.status.busy": "2022-10-28T15:43:41.300478Z",
     "iopub.status.idle": "2022-10-28T15:43:41.311224Z",
     "shell.execute_reply": "2022-10-28T15:43:41.309441Z",
     "shell.execute_reply.started": "2022-10-28T15:43:41.301090Z"
    }
   },
   "outputs": [],
   "source": [
    "from sklearn.metrics import homogeneity_score\n",
    "labels_pred = kmeans.labels_\n",
    "homogeneity_score(train_labels, labels_pred)"
   ]
  },
  {
   "cell_type": "markdown",
   "metadata": {},
   "source": [
    "## Decision Boundaries"
   ]
  },
  {
   "cell_type": "code",
   "execution_count": null,
   "metadata": {
    "execution": {
     "iopub.execute_input": "2022-10-28T15:43:41.316245Z",
     "iopub.status.busy": "2022-10-28T15:43:41.315904Z",
     "iopub.status.idle": "2022-10-28T15:43:41.331618Z",
     "shell.execute_reply": "2022-10-28T15:43:41.330788Z",
     "shell.execute_reply.started": "2022-10-28T15:43:41.316213Z"
    }
   },
   "outputs": [],
   "source": [
    "def plot_data(X):\n",
    "    plt.plot(X[:, 0], X[:, 1], 'k.', markersize=2)\n",
    "\n",
    "def plot_centroids(centroids, weights=None, circle_color='w', cross_color='r'):\n",
    "    if weights is not None:\n",
    "        centroids = centroids[weights > weights.max() / 10]\n",
    "    plt.scatter(centroids[:, 0], centroids[:, 1],\n",
    "                marker='o', s=30, linewidths=8,\n",
    "                color=circle_color, zorder=10, alpha=0.9)\n",
    "    plt.scatter(centroids[:, 0], centroids[:, 1],\n",
    "                marker='x', s=5, linewidths=10,\n",
    "                color=cross_color, zorder=11, alpha=1)\n",
    "\n",
    "def plot_decision_boundaries(clusterer, X, resolution=1000, show_centroids=True,\n",
    "                             show_xlabels=True, show_ylabels=True):\n",
    "    mins = X.min(axis=0) - 0.1\n",
    "    maxs = X.max(axis=0) + 0.1\n",
    "    xx, yy = np.meshgrid(np.linspace(mins[0], maxs[0], resolution),\n",
    "                         np.linspace(mins[1], maxs[1], resolution))\n",
    "    Z = clusterer.predict(np.c_[xx.ravel(), yy.ravel()])\n",
    "    \n",
    "    Z = Z.reshape(xx.shape)\n",
    "\n",
    "    plt.contourf(Z, extent=(mins[0], maxs[0], mins[1], maxs[1]),\n",
    "                cmap=\"Pastel2\")\n",
    "    plt.contour(Z, extent=(mins[0], maxs[0], mins[1], maxs[1]),\n",
    "                linewidths=1, colors='k')\n",
    "    plot_data(X)\n",
    "    if show_centroids:\n",
    "        plot_centroids(clusterer.cluster_centers_)\n",
    "\n",
    "    if show_xlabels:\n",
    "        plt.xlabel(\"$x_1$\", fontsize=14)\n",
    "    else:\n",
    "        plt.tick_params(labelbottom=False)\n",
    "    if show_ylabels:\n",
    "        plt.ylabel(\"$x_2$\", fontsize=14, rotation=0)\n",
    "    else:\n",
    "        plt.tick_params(labelleft=False)"
   ]
  },
  {
   "cell_type": "code",
   "execution_count": null,
   "metadata": {
    "execution": {
     "iopub.execute_input": "2022-10-28T15:43:41.333646Z",
     "iopub.status.busy": "2022-10-28T15:43:41.333025Z",
     "iopub.status.idle": "2022-10-28T15:43:41.664686Z",
     "shell.execute_reply": "2022-10-28T15:43:41.663977Z",
     "shell.execute_reply.started": "2022-10-28T15:43:41.333609Z"
    }
   },
   "outputs": [],
   "source": [
    "plt.figure(figsize=(8, 4))\n",
    "plot_decision_boundaries(kmeans, X, resolution = 1000)\n",
    "plt.show()"
   ]
  },
  {
   "cell_type": "markdown",
   "metadata": {},
   "source": [
    "### K-Means Algorithm\n",
    "\n",
    "The K-Means algorithm is one of the fastest clustering algorithms, but also one of the simplest:\n",
    "* First initialize $k$ centroids randomly: $k$ distinct instances are chosen randomly from the dataset and the centroids are placed at their locations.\n",
    "* Repeat until convergence (i.e., until the centroids stop moving):\n",
    "    * Assign each instance to the closest centroid.\n",
    "    * Update the centroids to be the mean of the instances that are assigned to them.\n",
    "    \n",
    "The `KMeans` class applies an optimized algorithm by default. To get the original K-Means algorithm (for educational purposes only), we set `init=\"random\"`, `n_init=1`and `algorithm=\"full\"`.  "
   ]
  },
  {
   "cell_type": "code",
   "execution_count": null,
   "metadata": {
    "execution": {
     "iopub.execute_input": "2022-10-28T15:43:41.666640Z",
     "iopub.status.busy": "2022-10-28T15:43:41.666075Z",
     "iopub.status.idle": "2022-10-28T15:43:41.695757Z",
     "shell.execute_reply": "2022-10-28T15:43:41.694022Z",
     "shell.execute_reply.started": "2022-10-28T15:43:41.666603Z"
    }
   },
   "outputs": [],
   "source": [
    "kmeans_iter1 = KMeans(n_clusters=4, init=\"random\", n_init=1,\n",
    "                     algorithm=\"full\", max_iter=1, random_state=1)\n",
    "kmeans_iter2 = KMeans(n_clusters=4, init=\"random\", n_init=1,\n",
    "                     algorithm=\"full\", max_iter=2, random_state=1)\n",
    "kmeans_iter3 = KMeans(n_clusters=4, init=\"random\", n_init=1,\n",
    "                     algorithm=\"full\", max_iter=3, random_state=1)\n",
    "\n",
    "kmeans_iter1.fit(X)\n",
    "kmeans_iter2.fit(X)\n",
    "kmeans_iter3.fit(X)"
   ]
  },
  {
   "cell_type": "code",
   "execution_count": null,
   "metadata": {
    "execution": {
     "iopub.execute_input": "2022-10-28T15:43:41.697082Z",
     "iopub.status.busy": "2022-10-28T15:43:41.696805Z",
     "iopub.status.idle": "2022-10-28T15:43:43.139763Z",
     "shell.execute_reply": "2022-10-28T15:43:43.138927Z",
     "shell.execute_reply.started": "2022-10-28T15:43:41.697055Z"
    }
   },
   "outputs": [],
   "source": [
    "plt.figure(figsize=(10, 8))\n",
    "\n",
    "plt.subplot(321)\n",
    "plot_data(X)\n",
    "plot_centroids(kmeans_iter1.cluster_centers_, circle_color='w', cross_color='r')\n",
    "plt.ylabel(\"$x_2$\", fontsize=14, rotation=0)\n",
    "plt.tick_params(labelbottom=False)\n",
    "plt.title(\"Update the centroids (initially randomly)\", fontsize=14)\n",
    "\n",
    "plt.subplot(322)\n",
    "plot_decision_boundaries(kmeans_iter1, X, show_xlabels=False, show_ylabels=False)\n",
    "plt.title(\"Label the instances\", fontsize=14)\n",
    "\n",
    "plt.subplot(323)\n",
    "plot_decision_boundaries(kmeans_iter1, X, show_centroids=False, show_xlabels=False)\n",
    "plot_centroids(kmeans_iter2.cluster_centers_)\n",
    "\n",
    "plt.subplot(324)\n",
    "plot_decision_boundaries(kmeans_iter2, X, show_xlabels=False, show_ylabels=False)\n",
    "\n",
    "plt.subplot(325)\n",
    "plot_decision_boundaries(kmeans_iter2, X, show_centroids=False)\n",
    "plot_centroids(kmeans_iter3.cluster_centers_)\n",
    "\n",
    "plt.subplot(326)\n",
    "plot_decision_boundaries(kmeans_iter3, X, show_ylabels=False)\n",
    "\n",
    "plt.show()"
   ]
  },
  {
   "cell_type": "markdown",
   "metadata": {},
   "source": [
    "## K-Means Variability\n",
    "In the approach above the centroids are initialised randomly, this means that if K-Means is run with different random seeds it can converge to very different solutions as seen below"
   ]
  },
  {
   "cell_type": "code",
   "execution_count": null,
   "metadata": {
    "execution": {
     "iopub.execute_input": "2022-10-28T15:43:43.141177Z",
     "iopub.status.busy": "2022-10-28T15:43:43.140862Z",
     "iopub.status.idle": "2022-10-28T15:43:43.149345Z",
     "shell.execute_reply": "2022-10-28T15:43:43.147704Z",
     "shell.execute_reply.started": "2022-10-28T15:43:43.141148Z"
    }
   },
   "outputs": [],
   "source": [
    "def plot_clusterer_comparison(clusterer1, clusterer2, X, title1=None, title2=None):\n",
    "    clusterer1.fit(X)\n",
    "    clusterer2.fit(X)\n",
    "\n",
    "    plt.figure(figsize=(10, 3.2))\n",
    "\n",
    "    plt.subplot(121)\n",
    "    plot_decision_boundaries(clusterer1, X)\n",
    "    if title1:\n",
    "        plt.title(title1, fontsize=14)\n",
    "\n",
    "    plt.subplot(122)\n",
    "    plot_decision_boundaries(clusterer2, X, show_ylabels=False)\n",
    "    if title2:\n",
    "        plt.title(title2, fontsize=14)"
   ]
  },
  {
   "cell_type": "code",
   "execution_count": null,
   "metadata": {
    "execution": {
     "iopub.execute_input": "2022-10-28T15:43:43.152353Z",
     "iopub.status.busy": "2022-10-28T15:43:43.151442Z",
     "iopub.status.idle": "2022-10-28T15:43:43.776251Z",
     "shell.execute_reply": "2022-10-28T15:43:43.775266Z",
     "shell.execute_reply.started": "2022-10-28T15:43:43.152287Z"
    }
   },
   "outputs": [],
   "source": [
    "kmeans_rnd_init1 = KMeans(n_clusters=4, init=\"random\", n_init=1,\n",
    "                         algorithm=\"full\", random_state=2)\n",
    "kmeans_rnd_init2 = KMeans(n_clusters=4, init=\"random\", n_init=1,\n",
    "                         algorithm=\"full\", random_state=5)\n",
    "\n",
    "plot_clusterer_comparison(kmeans_rnd_init1, kmeans_rnd_init2, X,\n",
    "                          \"Solution 1\", \"Solution 2 (with a different random init)\")\n",
    "plt.show()"
   ]
  },
  {
   "cell_type": "markdown",
   "metadata": {},
   "source": [
    "## Inertia\n",
    "The inertia metric measures the distances between each training instance and its closest centriod "
   ]
  },
  {
   "cell_type": "code",
   "execution_count": null,
   "metadata": {
    "execution": {
     "iopub.execute_input": "2022-10-28T15:43:43.778426Z",
     "iopub.status.busy": "2022-10-28T15:43:43.778020Z",
     "iopub.status.idle": "2022-10-28T15:43:43.786825Z",
     "shell.execute_reply": "2022-10-28T15:43:43.785100Z",
     "shell.execute_reply.started": "2022-10-28T15:43:43.778390Z"
    }
   },
   "outputs": [],
   "source": [
    "kmeans.inertia_"
   ]
  },
  {
   "cell_type": "code",
   "execution_count": null,
   "metadata": {
    "execution": {
     "iopub.execute_input": "2022-10-28T15:43:43.790024Z",
     "iopub.status.busy": "2022-10-28T15:43:43.788700Z",
     "iopub.status.idle": "2022-10-28T15:43:43.803046Z",
     "shell.execute_reply": "2022-10-28T15:43:43.801910Z",
     "shell.execute_reply.started": "2022-10-28T15:43:43.789943Z"
    }
   },
   "outputs": [],
   "source": [
    "kmeans.score(X)"
   ]
  },
  {
   "cell_type": "markdown",
   "metadata": {},
   "source": [
    "## Multiple Initializations\n",
    "\n",
    "To solve the issue of variability we run the K-Means algorithm multiple times with different random Initialisations and select the solution that minimizes the inertia."
   ]
  },
  {
   "cell_type": "code",
   "execution_count": null,
   "metadata": {
    "execution": {
     "iopub.execute_input": "2022-10-28T15:43:43.805265Z",
     "iopub.status.busy": "2022-10-28T15:43:43.804938Z",
     "iopub.status.idle": "2022-10-28T15:43:43.872330Z",
     "shell.execute_reply": "2022-10-28T15:43:43.871286Z",
     "shell.execute_reply.started": "2022-10-28T15:43:43.805238Z"
    }
   },
   "outputs": [],
   "source": [
    "kmeans_rnd_10_inits = KMeans(n_clusters=4, init=\"random\", n_init=10,\n",
    "                              algorithm=\"full\", random_state=2)\n",
    "kmeans_rnd_10_inits.fit(X)"
   ]
  },
  {
   "cell_type": "markdown",
   "metadata": {},
   "source": [
    "This is similar to the first model which is certainly the optimal K-Means solution"
   ]
  },
  {
   "cell_type": "code",
   "execution_count": null,
   "metadata": {
    "execution": {
     "iopub.execute_input": "2022-10-28T15:43:43.875533Z",
     "iopub.status.busy": "2022-10-28T15:43:43.874702Z",
     "iopub.status.idle": "2022-10-28T15:43:44.229073Z",
     "shell.execute_reply": "2022-10-28T15:43:44.227764Z",
     "shell.execute_reply.started": "2022-10-28T15:43:43.875493Z"
    }
   },
   "outputs": [],
   "source": [
    "plt.figure(figsize=(8, 4))\n",
    "plot_decision_boundaries(kmeans_rnd_10_inits, X)\n",
    "plt.show()"
   ]
  },
  {
   "cell_type": "markdown",
   "metadata": {},
   "source": [
    "## Mini Batch K-Means\n",
    "Mini-batch K-Means is much faster than regular K-Means but with a much lower performance."
   ]
  },
  {
   "cell_type": "code",
   "execution_count": null,
   "metadata": {
    "execution": {
     "iopub.execute_input": "2022-10-28T15:43:44.230961Z",
     "iopub.status.busy": "2022-10-28T15:43:44.230506Z",
     "iopub.status.idle": "2022-10-28T15:43:44.237110Z",
     "shell.execute_reply": "2022-10-28T15:43:44.235761Z",
     "shell.execute_reply.started": "2022-10-28T15:43:44.230924Z"
    }
   },
   "outputs": [],
   "source": [
    "from sklearn.cluster import MiniBatchKMeans"
   ]
  },
  {
   "cell_type": "code",
   "execution_count": null,
   "metadata": {
    "execution": {
     "iopub.execute_input": "2022-10-28T15:43:44.239680Z",
     "iopub.status.busy": "2022-10-28T15:43:44.238592Z",
     "iopub.status.idle": "2022-10-28T15:43:49.131843Z",
     "shell.execute_reply": "2022-10-28T15:43:49.130790Z",
     "shell.execute_reply.started": "2022-10-28T15:43:44.239609Z"
    }
   },
   "outputs": [],
   "source": [
    "%timeit KMeans(n_clusters=4, random_state=42).fit(X)"
   ]
  },
  {
   "cell_type": "code",
   "execution_count": null,
   "metadata": {
    "execution": {
     "iopub.execute_input": "2022-10-28T15:43:49.134192Z",
     "iopub.status.busy": "2022-10-28T15:43:49.133862Z",
     "iopub.status.idle": "2022-10-28T15:43:58.296518Z",
     "shell.execute_reply": "2022-10-28T15:43:58.295533Z",
     "shell.execute_reply.started": "2022-10-28T15:43:49.134161Z"
    }
   },
   "outputs": [],
   "source": [
    "%timeit MiniBatchKMeans(n_clusters=4, random_state=42).fit(X)"
   ]
  },
  {
   "cell_type": "markdown",
   "metadata": {},
   "source": [
    "## Other Clustering Algorithms"
   ]
  },
  {
   "cell_type": "markdown",
   "metadata": {},
   "source": [
    "### Gaussian Mixture"
   ]
  },
  {
   "cell_type": "code",
   "execution_count": null,
   "metadata": {
    "execution": {
     "iopub.execute_input": "2022-10-28T15:43:58.298225Z",
     "iopub.status.busy": "2022-10-28T15:43:58.297911Z",
     "iopub.status.idle": "2022-10-28T15:43:58.305904Z",
     "shell.execute_reply": "2022-10-28T15:43:58.304827Z",
     "shell.execute_reply.started": "2022-10-28T15:43:58.298197Z"
    }
   },
   "outputs": [],
   "source": [
    "from sklearn.mixture import GaussianMixture"
   ]
  },
  {
   "cell_type": "code",
   "execution_count": null,
   "metadata": {
    "execution": {
     "iopub.execute_input": "2022-10-28T15:43:58.307854Z",
     "iopub.status.busy": "2022-10-28T15:43:58.307275Z",
     "iopub.status.idle": "2022-10-28T15:44:00.394935Z",
     "shell.execute_reply": "2022-10-28T15:44:00.393575Z",
     "shell.execute_reply.started": "2022-10-28T15:43:58.307823Z"
    }
   },
   "outputs": [],
   "source": [
    "gmm = GaussianMixture(n_components = 4).fit(pca_train)\n",
    "labels1 = gmm.predict(pca_train)\n",
    "\n",
    "plt.scatter(pca_train[:,0], pca_train[:,1], c=labels1, s=40, cmap='viridis')\n",
    "\n",
    "scatter_x = pca_train[:, 0]\n",
    "scatter_y = pca_train[:, 1]\n",
    "group = train_labels\n",
    "\n",
    "cdict = {0: 'red', 1: 'blue', 2: 'green', 3 : \"orange\"}\n",
    "identification = {v : k for k,v in class_map.items()}\n",
    "\n",
    "\n",
    "plt.figure()\n",
    "plt.grid()\n",
    "for g in np.unique(group):\n",
    "    ix = np.where(group == g)\n",
    "    plt.scatter(scatter_x[ix], scatter_y[ix], c = cdict[g], label = identification[g], s = 30)\n",
    "plt.legend()\n",
    "plt.xlabel(\"PCA feature 1\")\n",
    "plt.ylabel(\"PCA feature 2\")\n",
    "plt.title(\"Classes 2D features (by PCA) representation\")\n",
    "plt.show()"
   ]
  },
  {
   "cell_type": "markdown",
   "metadata": {},
   "source": [
    "In 2D, clusters computed by Gaussain Mixture don't seem to correspond to the 4 classes of the dataset."
   ]
  },
  {
   "cell_type": "code",
   "execution_count": null,
   "metadata": {
    "execution": {
     "iopub.execute_input": "2022-10-28T15:44:00.396830Z",
     "iopub.status.busy": "2022-10-28T15:44:00.396275Z",
     "iopub.status.idle": "2022-10-28T15:44:02.448526Z",
     "shell.execute_reply": "2022-10-28T15:44:02.447027Z",
     "shell.execute_reply.started": "2022-10-28T15:44:00.396796Z"
    }
   },
   "outputs": [],
   "source": [
    "gmm = GaussianMixture(n_components = 10).fit(pca_train)\n",
    "labels = gmm.predict(pca_train)\n",
    "plt.scatter(pca_train[:,0], pca_train[:,1], c=labels, s=40, cmap='viridis')"
   ]
  },
  {
   "cell_type": "markdown",
   "metadata": {},
   "source": [
    "Not much can be said when we increase the number of clusters. We could try to calculate the accuracy with the true labels (when 4 clusters are computed)"
   ]
  },
  {
   "cell_type": "code",
   "execution_count": null,
   "metadata": {
    "execution": {
     "iopub.execute_input": "2022-10-28T15:44:02.450010Z",
     "iopub.status.busy": "2022-10-28T15:44:02.449656Z",
     "iopub.status.idle": "2022-10-28T15:44:02.460572Z",
     "shell.execute_reply": "2022-10-28T15:44:02.459232Z",
     "shell.execute_reply.started": "2022-10-28T15:44:02.449977Z"
    }
   },
   "outputs": [],
   "source": [
    "import numpy as np\n",
    "from sklearn import cluster\n",
    "from scipy.sparse.linalg import svds\n",
    "from sklearn.preprocessing import normalize\n",
    "from scipy.optimize import linear_sum_assignment as linear_assignment\n",
    "from sklearn.metrics import normalized_mutual_info_score, adjusted_rand_score, adjusted_mutual_info_score\n",
    "\n",
    "def acc(y_true, y_pred):\n",
    "    \"\"\"\n",
    "    Calculate clustering accuracy.\n",
    "    # Arguments\n",
    "        y: true labels, numpy.array with shape `(n_samples,)`\n",
    "        y_pred: predicted labels, numpy.array with shape `(n_samples,)`\n",
    "    # Return\n",
    "        accuracy, in [0,1]\n",
    "    #Hungarian algo creating the affinity matrix of clusters and trying to find the right labels to assign to each cluster\n",
    "    \"\"\"\n",
    "    y_true = y_true.astype(np.int64)\n",
    "    if y_pred.size != y_true.size:\n",
    "        y_true = np.argmax(y_true, axis=1)\n",
    "    assert y_pred.size == y_true.size\n",
    "    D = max(y_pred.max(), y_true.max()) + 1\n",
    "    w = np.zeros((D, D), dtype=np.int64)\n",
    "    for i in range(y_pred.size):\n",
    "        w[y_pred[i], y_true[i]] += 1\n",
    "    # from sklearn.utils.linear_assignment_ import linear_assignment\n",
    "    ind_row, ind_col = linear_assignment(w.max() - w)\n",
    "    #print(ind_row, ind_col) # should be the real number of labels\n",
    "    return sum([w[i, j] for i, j in zip(ind_row, ind_col)]) * 1.0 / y_pred.size\n"
   ]
  },
  {
   "cell_type": "code",
   "execution_count": null,
   "metadata": {
    "execution": {
     "iopub.execute_input": "2022-10-28T15:44:02.462525Z",
     "iopub.status.busy": "2022-10-28T15:44:02.462166Z",
     "iopub.status.idle": "2022-10-28T15:44:02.484512Z",
     "shell.execute_reply": "2022-10-28T15:44:02.482811Z",
     "shell.execute_reply.started": "2022-10-28T15:44:02.462496Z"
    }
   },
   "outputs": [],
   "source": [
    "acc(train_labels, labels1)"
   ]
  },
  {
   "cell_type": "markdown",
   "metadata": {},
   "source": [
    "The accuracy is not good at all with Gaussian Mixture clustering."
   ]
  },
  {
   "cell_type": "code",
   "execution_count": null,
   "metadata": {
    "execution": {
     "iopub.execute_input": "2022-10-28T15:44:02.491792Z",
     "iopub.status.busy": "2022-10-28T15:44:02.491359Z",
     "iopub.status.idle": "2022-10-28T15:44:02.503754Z",
     "shell.execute_reply": "2022-10-28T15:44:02.502559Z",
     "shell.execute_reply.started": "2022-10-28T15:44:02.491753Z"
    }
   },
   "outputs": [],
   "source": [
    "from sklearn.metrics import homogeneity_score\n",
    "homogeneity_score(train_labels, labels)"
   ]
  },
  {
   "cell_type": "markdown",
   "metadata": {},
   "source": [
    "## Agglomerative Clustering"
   ]
  },
  {
   "cell_type": "code",
   "execution_count": null,
   "metadata": {
    "execution": {
     "iopub.execute_input": "2022-10-28T15:44:02.507848Z",
     "iopub.status.busy": "2022-10-28T15:44:02.507470Z",
     "iopub.status.idle": "2022-10-28T15:44:02.513720Z",
     "shell.execute_reply": "2022-10-28T15:44:02.512240Z",
     "shell.execute_reply.started": "2022-10-28T15:44:02.507815Z"
    }
   },
   "outputs": [],
   "source": [
    "from sklearn.cluster import AgglomerativeClustering"
   ]
  },
  {
   "cell_type": "code",
   "execution_count": null,
   "metadata": {
    "execution": {
     "iopub.execute_input": "2022-10-28T15:44:02.516116Z",
     "iopub.status.busy": "2022-10-28T15:44:02.515673Z",
     "iopub.status.idle": "2022-10-28T15:44:02.647257Z",
     "shell.execute_reply": "2022-10-28T15:44:02.645809Z",
     "shell.execute_reply.started": "2022-10-28T15:44:02.516073Z"
    }
   },
   "outputs": [],
   "source": [
    "agg = AgglomerativeClustering(linkage=\"complete\").fit(X)"
   ]
  },
  {
   "cell_type": "code",
   "execution_count": null,
   "metadata": {
    "execution": {
     "iopub.execute_input": "2022-10-28T15:44:02.649495Z",
     "iopub.status.busy": "2022-10-28T15:44:02.649052Z",
     "iopub.status.idle": "2022-10-28T15:44:02.654673Z",
     "shell.execute_reply": "2022-10-28T15:44:02.653866Z",
     "shell.execute_reply.started": "2022-10-28T15:44:02.649458Z"
    }
   },
   "outputs": [],
   "source": [
    "def learned_parameters(estimator):\n",
    "    return [attrib for attrib in dir(estimator)\n",
    "            if attrib.endswith(\"_\") and not attrib.startswith(\"_\")]"
   ]
  },
  {
   "cell_type": "code",
   "execution_count": null,
   "metadata": {
    "execution": {
     "iopub.execute_input": "2022-10-28T15:44:02.655938Z",
     "iopub.status.busy": "2022-10-28T15:44:02.655599Z",
     "iopub.status.idle": "2022-10-28T15:44:02.669977Z",
     "shell.execute_reply": "2022-10-28T15:44:02.668117Z",
     "shell.execute_reply.started": "2022-10-28T15:44:02.655908Z"
    }
   },
   "outputs": [],
   "source": [
    "learned_parameters(agg)"
   ]
  },
  {
   "cell_type": "code",
   "execution_count": null,
   "metadata": {
    "execution": {
     "iopub.execute_input": "2022-10-28T15:44:02.672828Z",
     "iopub.status.busy": "2022-10-28T15:44:02.672377Z",
     "iopub.status.idle": "2022-10-28T15:44:02.683539Z",
     "shell.execute_reply": "2022-10-28T15:44:02.682596Z",
     "shell.execute_reply.started": "2022-10-28T15:44:02.672788Z"
    }
   },
   "outputs": [],
   "source": [
    "agg.children_"
   ]
  },
  {
   "cell_type": "code",
   "execution_count": null,
   "metadata": {
    "execution": {
     "iopub.execute_input": "2022-10-28T15:44:02.685639Z",
     "iopub.status.busy": "2022-10-28T15:44:02.685300Z",
     "iopub.status.idle": "2022-10-28T15:44:09.202076Z",
     "shell.execute_reply": "2022-10-28T15:44:09.200805Z",
     "shell.execute_reply.started": "2022-10-28T15:44:02.685608Z"
    }
   },
   "outputs": [],
   "source": [
    "import matplotlib.pyplot as plt\n",
    "import numpy as np\n",
    "\n",
    "\n",
    "from sklearn.metrics import pairwise_distances\n",
    "\n",
    "n_clusters = 4\n",
    "\n",
    "# Plot clustering results\n",
    "for index, metric in enumerate([\"cosine\", \"euclidean\"]):\n",
    "    model = AgglomerativeClustering(\n",
    "        n_clusters=n_clusters, linkage=\"average\", affinity=metric\n",
    "    )\n",
    "    model.fit(X)\n",
    "    plt.figure()\n",
    "    plt.axes([0, 0, 1, 1])\n",
    "    for l, c in zip(np.arange(model.n_clusters), \"rgbk\"):\n",
    "        plt.plot(X[model.labels_ == l].T, c=c, alpha=0.5)\n",
    "    plt.axis(\"tight\")\n",
    "    plt.axis(\"off\")\n",
    "    plt.suptitle(\"AgglomerativeClustering(affinity=%s)\" % metric, size=20)\n",
    "\n",
    "\n",
    "plt.show()"
   ]
  },
  {
   "cell_type": "code",
   "execution_count": null,
   "metadata": {
    "execution": {
     "iopub.execute_input": "2022-10-28T15:44:09.203888Z",
     "iopub.status.busy": "2022-10-28T15:44:09.203555Z",
     "iopub.status.idle": "2022-10-28T15:44:09.213482Z",
     "shell.execute_reply": "2022-10-28T15:44:09.212545Z",
     "shell.execute_reply.started": "2022-10-28T15:44:09.203861Z"
    }
   },
   "outputs": [],
   "source": [
    "from sklearn.metrics import homogeneity_score\n",
    "labels_pred = agg.labels_\n",
    "homogeneity_score(train_labels, labels_pred)"
   ]
  },
  {
   "cell_type": "markdown",
   "metadata": {},
   "source": [
    "## Finding the optimal number of clusters\n",
    "We plot the inertia as a function of k and analyze the resulting curve"
   ]
  },
  {
   "cell_type": "code",
   "execution_count": null,
   "metadata": {
    "execution": {
     "iopub.execute_input": "2022-10-28T15:44:09.215823Z",
     "iopub.status.busy": "2022-10-28T15:44:09.215020Z",
     "iopub.status.idle": "2022-10-28T15:44:09.921521Z",
     "shell.execute_reply": "2022-10-28T15:44:09.920626Z",
     "shell.execute_reply.started": "2022-10-28T15:44:09.215755Z"
    }
   },
   "outputs": [],
   "source": [
    "kmeans_per_k = [KMeans(n_clusters=k, random_state=42).fit(X)\n",
    "                for k in range(1, 10)]\n",
    "inertias = [model.inertia_ for model in kmeans_per_k]"
   ]
  },
  {
   "cell_type": "code",
   "execution_count": null,
   "metadata": {
    "execution": {
     "iopub.execute_input": "2022-10-28T15:44:09.923333Z",
     "iopub.status.busy": "2022-10-28T15:44:09.922670Z",
     "iopub.status.idle": "2022-10-28T15:44:09.929133Z",
     "shell.execute_reply": "2022-10-28T15:44:09.927683Z",
     "shell.execute_reply.started": "2022-10-28T15:44:09.923295Z"
    }
   },
   "outputs": [],
   "source": [
    "print(sorted(inertias))"
   ]
  },
  {
   "cell_type": "code",
   "execution_count": null,
   "metadata": {
    "execution": {
     "iopub.execute_input": "2022-10-28T15:44:09.931341Z",
     "iopub.status.busy": "2022-10-28T15:44:09.930436Z",
     "iopub.status.idle": "2022-10-28T15:44:10.116572Z",
     "shell.execute_reply": "2022-10-28T15:44:10.115405Z",
     "shell.execute_reply.started": "2022-10-28T15:44:09.931305Z"
    }
   },
   "outputs": [],
   "source": [
    "plt.figure(figsize=(8, 3.5))\n",
    "plt.plot(range(1, 10), inertias, \"bo-\")\n",
    "plt.xlabel(\"$k$\", fontsize=14)\n",
    "plt.ylabel(\"Inertia\", fontsize=14)\n",
    "plt.annotate('Elbow',\n",
    "             xy=(4, inertias[3]),\n",
    "             xytext=(0.55, 0.55),\n",
    "             textcoords='figure fraction',\n",
    "             fontsize=16,\n",
    "             arrowprops=dict(facecolor='black', shrink=0.1)\n",
    "            )\n",
    "plt.axis([1, 8.5, 0, 50000000])\n",
    "plt.show()"
   ]
  },
  {
   "cell_type": "markdown",
   "metadata": {},
   "source": [
    "As you can see, there is an elbow at k=4, which means that less clusters than that would be bad, and more clusters would not help much and might cut clusters in half. This is perfect in this example since it the data contains 4 classes."
   ]
  },
  {
   "cell_type": "markdown",
   "metadata": {},
   "source": [
    "Another approach is to look at the silhouette_score. The silhouette coefficient can vary between -1 and +1: a coefficient close to +1 means that the instance is well inside its own cluster and far from other clusters, while a coefficient close to 0 means that it is close to a cluster boundary, and finally a coefficient close to -1 means that the instance may have been assigned to the wrong cluster."
   ]
  },
  {
   "cell_type": "code",
   "execution_count": null,
   "metadata": {
    "execution": {
     "iopub.execute_input": "2022-10-28T15:44:10.121019Z",
     "iopub.status.busy": "2022-10-28T15:44:10.119021Z",
     "iopub.status.idle": "2022-10-28T15:44:10.126761Z",
     "shell.execute_reply": "2022-10-28T15:44:10.125105Z",
     "shell.execute_reply.started": "2022-10-28T15:44:10.120973Z"
    }
   },
   "outputs": [],
   "source": [
    "from sklearn.metrics import silhouette_score"
   ]
  },
  {
   "cell_type": "code",
   "execution_count": null,
   "metadata": {
    "execution": {
     "iopub.execute_input": "2022-10-28T15:44:10.128919Z",
     "iopub.status.busy": "2022-10-28T15:44:10.128509Z",
     "iopub.status.idle": "2022-10-28T15:44:10.254604Z",
     "shell.execute_reply": "2022-10-28T15:44:10.253835Z",
     "shell.execute_reply.started": "2022-10-28T15:44:10.128885Z"
    }
   },
   "outputs": [],
   "source": [
    "silhouette_score(X, kmeans.labels_)"
   ]
  },
  {
   "cell_type": "code",
   "execution_count": null,
   "metadata": {
    "execution": {
     "iopub.execute_input": "2022-10-28T15:44:10.256570Z",
     "iopub.status.busy": "2022-10-28T15:44:10.255778Z",
     "iopub.status.idle": "2022-10-28T15:44:11.186089Z",
     "shell.execute_reply": "2022-10-28T15:44:11.184968Z",
     "shell.execute_reply.started": "2022-10-28T15:44:10.256536Z"
    }
   },
   "outputs": [],
   "source": [
    "silhouette_scores = [silhouette_score(X, model.labels_)\n",
    "                     for model in kmeans_per_k[1:]]"
   ]
  },
  {
   "cell_type": "code",
   "execution_count": null,
   "metadata": {
    "execution": {
     "iopub.execute_input": "2022-10-28T15:44:11.190696Z",
     "iopub.status.busy": "2022-10-28T15:44:11.189969Z",
     "iopub.status.idle": "2022-10-28T15:44:11.197050Z",
     "shell.execute_reply": "2022-10-28T15:44:11.195428Z",
     "shell.execute_reply.started": "2022-10-28T15:44:11.190665Z"
    }
   },
   "outputs": [],
   "source": [
    "print(sorted(silhouette_scores))"
   ]
  },
  {
   "cell_type": "code",
   "execution_count": null,
   "metadata": {
    "execution": {
     "iopub.execute_input": "2022-10-28T15:44:11.202185Z",
     "iopub.status.busy": "2022-10-28T15:44:11.200833Z",
     "iopub.status.idle": "2022-10-28T15:44:11.344797Z",
     "shell.execute_reply": "2022-10-28T15:44:11.343972Z",
     "shell.execute_reply.started": "2022-10-28T15:44:11.202132Z"
    }
   },
   "outputs": [],
   "source": [
    "plt.figure(figsize=(8, 3))\n",
    "plt.plot(range(2, 10), silhouette_scores, \"bo-\")\n",
    "plt.xlabel(\"$k$\", fontsize=14)\n",
    "plt.ylabel(\"Silhouette score\", fontsize=14)\n",
    "plt.axis([1.8, 8.5, 0.0, 0.50])\n",
    "plt.show()"
   ]
  },
  {
   "cell_type": "markdown",
   "metadata": {},
   "source": [
    "This confirms that k = 2 is also a good choice. "
   ]
  }
 ],
 "metadata": {
  "kernelspec": {
   "display_name": "Python 3 (ipykernel)",
   "language": "python",
   "name": "python3"
  },
  "language_info": {
   "codemirror_mode": {
    "name": "ipython",
    "version": 3
   },
   "file_extension": ".py",
   "mimetype": "text/x-python",
   "name": "python",
   "nbconvert_exporter": "python",
   "pygments_lexer": "ipython3",
   "version": "3.9.7"
  }
 },
 "nbformat": 4,
 "nbformat_minor": 4
}
