{
 "cells": [
  {
   "cell_type": "code",
   "execution_count": 1,
   "metadata": {
    "_cell_guid": "b1076dfc-b9ad-4769-8c92-a6c4dae69d19",
    "_uuid": "8f2839f25d086af736a60e9eeb907d3b93b6e0e5",
    "execution": {
     "iopub.execute_input": "2022-11-26T00:04:59.578275Z",
     "iopub.status.busy": "2022-11-26T00:04:59.577066Z",
     "iopub.status.idle": "2022-11-26T00:05:01.493415Z",
     "shell.execute_reply": "2022-11-26T00:05:01.491890Z",
     "shell.execute_reply.started": "2022-11-26T00:04:59.578143Z"
    }
   },
   "outputs": [],
   "source": [
    "import os\n",
    "import cv2\n",
    "import random\n",
    "import numpy as np \n",
    "import pandas as pd \n",
    "import seaborn as sns\n",
    "from tqdm import tqdm\n",
    "\n",
    "# Scikit-Learn ≥0.20 is required\n",
    "import sklearn\n",
    "assert sklearn.__version__ >= \"0.20\"\n",
    "\n",
    "# To plot pretty figures\n",
    "%matplotlib inline\n",
    "import matplotlib as mlp\n",
    "import matplotlib.pyplot as plt"
   ]
  },
  {
   "cell_type": "markdown",
   "metadata": {},
   "source": [
    "## Data Loading"
   ]
  },
  {
   "cell_type": "code",
   "execution_count": 2,
   "metadata": {
    "execution": {
     "iopub.execute_input": "2022-11-26T00:05:01.497606Z",
     "iopub.status.busy": "2022-11-26T00:05:01.497013Z",
     "iopub.status.idle": "2022-11-26T00:05:38.463273Z",
     "shell.execute_reply": "2022-11-26T00:05:38.461809Z",
     "shell.execute_reply.started": "2022-11-26T00:05:01.497554Z"
    }
   },
   "outputs": [
    {
     "name": "stdout",
     "output_type": "stream",
     "text": [
      "train_img shape :  (2870, 255, 255)\n",
      "train_labels shape :  (2870,)\n",
      "test_img shape :  (394, 255, 255)\n",
      "test_labels shape :  (394,)\n"
     ]
    }
   ],
   "source": [
    "labels = ['glioma_tumor', 'meningioma_tumor', 'no_tumor', 'pituitary_tumor']\n",
    "train_img = [] #contains the images used for training the model\n",
    "test_img = []\n",
    "train_labels = [] #label of each image in x_train \n",
    "test_labels = []\n",
    "TRAIN_PATH = '../input/brain-tumor-classification-mri/Training'\n",
    "TEST_PATH = '../input/brain-tumor-classification-mri/Testing'\n",
    "new_size = (255, 255)\n",
    "\n",
    "for label in labels:\n",
    "    img_dir = os.path.join(TRAIN_PATH, label)\n",
    "    for img_file in os.listdir(img_dir):\n",
    "        img = cv2.imread(f'{img_dir}/{img_file}')\n",
    "        img = cv2.resize(img, new_size)\n",
    "        img = cv2.cvtColor(img, cv2.COLOR_RGB2GRAY)/255\n",
    "        train_img.append(img)\n",
    "        train_labels.append(label)\n",
    "        \n",
    "train_img = np.stack(train_img)\n",
    "train_labels = np.stack(train_labels)\n",
    "\n",
    "print(\"train_img shape : \", train_img.shape)\n",
    "print(\"train_labels shape : \", train_labels.shape)\n",
    "\n",
    "for label in labels:\n",
    "    img_dir = os.path.join(TEST_PATH, label)\n",
    "    for img_file in os.listdir(img_dir):\n",
    "        img = cv2.imread(f'{img_dir}/{img_file}')\n",
    "        img = cv2.resize(img, new_size)\n",
    "        img = cv2.cvtColor(img, cv2.COLOR_RGB2GRAY)/255\n",
    "        test_img.append(img)\n",
    "        test_labels.append(label)\n",
    "        \n",
    "test_img = np.stack(test_img)\n",
    "test_labels = np.stack(test_labels)\n",
    "\n",
    "print(\"test_img shape : \", test_img.shape)\n",
    "print(\"test_labels shape : \", test_labels.shape)\n",
    "\n",
    "class_map = {\n",
    "    'no_tumor': 0,\n",
    "    'glioma_tumor': 1,\n",
    "    'pituitary_tumor': 2,\n",
    "    'meningioma_tumor': 3\n",
    "}\n",
    "\n",
    "train_labels = np.array([class_map[label] for label in train_labels])\n",
    "test_labels = np.array([class_map[label] for label in test_labels])"
   ]
  },
  {
   "cell_type": "markdown",
   "metadata": {},
   "source": [
    "## Data pre-processing"
   ]
  },
  {
   "cell_type": "code",
   "execution_count": 3,
   "metadata": {
    "execution": {
     "iopub.execute_input": "2022-11-26T00:05:38.465361Z",
     "iopub.status.busy": "2022-11-26T00:05:38.465004Z",
     "iopub.status.idle": "2022-11-26T00:06:06.422708Z",
     "shell.execute_reply": "2022-11-26T00:06:06.421061Z",
     "shell.execute_reply.started": "2022-11-26T00:05:38.465331Z"
    }
   },
   "outputs": [],
   "source": [
    "from sklearn.preprocessing import StandardScaler, MinMaxScaler #the Standard Scaler : X2 = (X1 - E(X1))/sqrt(Var(X1))\n",
    "from sklearn.decomposition import PCA\n",
    "\n",
    "train_img = train_img.reshape((train_img.shape[0], 255*255))\n",
    "test_img = test_img.reshape((test_img.shape[0], 255*255))\n",
    "S = StandardScaler()\n",
    "X_train = S.fit_transform(train_img)\n",
    "X_test = S.transform(test_img)\n",
    "P = PCA(n_components = 100)\n",
    "pca_train = P.fit_transform(X_train)\n",
    "pca_test = P.transform(X_test)"
   ]
  },
  {
   "cell_type": "code",
   "execution_count": 4,
   "metadata": {
    "execution": {
     "iopub.execute_input": "2022-11-26T00:06:06.438686Z",
     "iopub.status.busy": "2022-11-26T00:06:06.432444Z",
     "iopub.status.idle": "2022-11-26T00:06:06.460874Z",
     "shell.execute_reply": "2022-11-26T00:06:06.458504Z",
     "shell.execute_reply.started": "2022-11-26T00:06:06.438585Z"
    }
   },
   "outputs": [],
   "source": [
    "data_train = np.hstack((pca_train, train_labels[:,None]))\n",
    "data_test = np.hstack((pca_test, test_labels[:,None]))\n",
    "\n",
    "all_data = np.vstack((data_train, data_test))\n",
    "X = all_data[:,:-1]\n",
    "y = all_data[:,-1]"
   ]
  },
  {
   "cell_type": "markdown",
   "metadata": {},
   "source": [
    "# Multilayer Perceptron"
   ]
  },
  {
   "cell_type": "code",
   "execution_count": 5,
   "metadata": {
    "execution": {
     "iopub.execute_input": "2022-11-26T00:06:06.467579Z",
     "iopub.status.busy": "2022-11-26T00:06:06.465211Z",
     "iopub.status.idle": "2022-11-26T00:06:06.492866Z",
     "shell.execute_reply": "2022-11-26T00:06:06.489971Z",
     "shell.execute_reply.started": "2022-11-26T00:06:06.467447Z"
    }
   },
   "outputs": [],
   "source": [
    "from sklearn.neural_network import MLPClassifier\n",
    "from sklearn.metrics import accuracy_score, precision_score, recall_score, roc_auc_score, confusion_matrix, f1_score\n",
    "from sklearn.model_selection import cross_validate, cross_val_score"
   ]
  },
  {
   "cell_type": "code",
   "execution_count": 6,
   "metadata": {
    "execution": {
     "iopub.execute_input": "2022-11-26T00:06:06.498537Z",
     "iopub.status.busy": "2022-11-26T00:06:06.496487Z",
     "iopub.status.idle": "2022-11-26T00:06:10.889578Z",
     "shell.execute_reply": "2022-11-26T00:06:10.888101Z",
     "shell.execute_reply.started": "2022-11-26T00:06:06.498465Z"
    }
   },
   "outputs": [
    {
     "name": "stdout",
     "output_type": "stream",
     "text": [
      "1.0\n",
      "0.7233502538071066\n"
     ]
    }
   ],
   "source": [
    "# By default, MLP classifier has a single hidden layer with 100 neurons \n",
    "# and relu activation function\n",
    "clf = MLPClassifier()\n",
    "clf.fit(pca_train, train_labels)\n",
    "print(clf.score(pca_train, train_labels))\n",
    "print(clf.score(pca_test, test_labels))"
   ]
  },
  {
   "cell_type": "code",
   "execution_count": 7,
   "metadata": {
    "execution": {
     "iopub.execute_input": "2022-11-26T00:06:10.893010Z",
     "iopub.status.busy": "2022-11-26T00:06:10.891922Z",
     "iopub.status.idle": "2022-11-26T00:09:13.001049Z",
     "shell.execute_reply": "2022-11-26T00:09:12.999776Z",
     "shell.execute_reply.started": "2022-11-26T00:06:10.892955Z"
    }
   },
   "outputs": [
    {
     "name": "stdout",
     "output_type": "stream",
     "text": [
      "10-fold Accuracy =  0.8581881533101046\n",
      "10-fold Precision =  0.8525179258484433\n",
      "10-fold Recall =  0.8550522648083623\n",
      "10-fold f1-score =  0.8432211924854958\n",
      "10-fold roc score =  0.9488147109134886\n"
     ]
    }
   ],
   "source": [
    "acc = cross_val_score(clf, pca_train, train_labels, cv=10).mean()\n",
    "precision = cross_val_score(clf,pca_train, train_labels, cv=10, scoring='precision_weighted').mean()\n",
    "recall = cross_val_score(clf, pca_train, train_labels, cv=10, scoring='recall_weighted').mean()\n",
    "f1 = cross_val_score(clf,pca_train, train_labels, cv=10, scoring='f1_weighted').mean()\n",
    "roc = cross_val_score(clf, pca_train, train_labels, cv=10, scoring='roc_auc_ovr_weighted').mean()\n",
    "\n",
    "\n",
    "print(\"10-fold Accuracy = \", acc)\n",
    "print(\"10-fold Precision = \", precision)\n",
    "print(\"10-fold Recall = \", recall)\n",
    "print(\"10-fold f1-score = \", f1)\n",
    "print(\"10-fold roc score = \", roc)\n"
   ]
  },
  {
   "cell_type": "markdown",
   "metadata": {},
   "source": [
    "The results are pretty good or above average, let's explore the hyperparameters tuning and make the multilayer perceptron more efficient"
   ]
  },
  {
   "cell_type": "markdown",
   "metadata": {},
   "source": [
    "## Hyperparameters tuning"
   ]
  },
  {
   "cell_type": "markdown",
   "metadata": {},
   "source": [
    "### Number of hidden layers change"
   ]
  },
  {
   "cell_type": "code",
   "execution_count": 8,
   "metadata": {
    "execution": {
     "iopub.execute_input": "2022-11-26T00:09:13.003784Z",
     "iopub.status.busy": "2022-11-26T00:09:13.002920Z",
     "iopub.status.idle": "2022-11-26T00:09:36.649029Z",
     "shell.execute_reply": "2022-11-26T00:09:36.647441Z",
     "shell.execute_reply.started": "2022-11-26T00:09:13.003709Z"
    }
   },
   "outputs": [
    {
     "name": "stdout",
     "output_type": "stream",
     "text": [
      "\n",
      "Set of hidden layers: (20,)\n",
      "Accuracy =  0.7360406091370558\n",
      "Precision =  0.7779754488871831\n",
      "Recall =  0.7360406091370558\n",
      "f1-score =  0.6912660951403861\n",
      "Roc score =  0.8237059801469656\n",
      "\n",
      "Set of hidden layers: (20, 20)\n",
      "Accuracy =  0.6903553299492385\n",
      "Precision =  0.7225718797625027\n",
      "Recall =  0.6903553299492385\n",
      "f1-score =  0.6417877176744694\n",
      "Roc score =  0.8170356414341616\n",
      "\n",
      "Set of hidden layers: (20, 20, 20)\n",
      "Accuracy =  0.7106598984771574\n",
      "Precision =  0.7361293188753776\n",
      "Recall =  0.7106598984771574\n",
      "f1-score =  0.6649935642575358\n",
      "Roc score =  0.8063007972098352\n"
     ]
    }
   ],
   "source": [
    "#evaluation buffers\n",
    "\n",
    "Architecture = []\n",
    "Solver = []\n",
    "Learning_rate = []\n",
    "Activation = []\n",
    "Solver = []\n",
    "Accuracy = []\n",
    "Precision = []\n",
    "Recall = []\n",
    "F1 = []\n",
    "ROC = []\n",
    "\n",
    "\n",
    "hidden_layers_sets = [\n",
    "    (20,),\n",
    "    (20,20,),\n",
    "    (20, 20, 20,)\n",
    "]\n",
    "\n",
    "clfs = []\n",
    "\n",
    "for nbHiddenLayers in hidden_layers_sets:\n",
    "    clf = MLPClassifier(hidden_layer_sizes = nbHiddenLayers, max_iter = 1500)\n",
    "    clf.fit(pca_train, train_labels)\n",
    "    y_pred = clf.predict(pca_test)\n",
    "    y_prob = clf.predict_proba(pca_test)\n",
    "    acc = accuracy_score(test_labels, y_pred)\n",
    "    precision = precision_score(test_labels, y_pred, average = \"weighted\")\n",
    "    recall = recall_score(test_labels, y_pred, average = \"weighted\")\n",
    "    f1 =f1_score(test_labels, y_pred, average = \"weighted\")\n",
    "    roc = roc_auc_score(test_labels, y_prob, average = \"weighted\", multi_class = \"ovr\")\n",
    "    clfs.append(clf)\n",
    "    \n",
    "    #acc = cross_val_score(clf, X, y, cv=10).mean()\n",
    "    #precision = cross_val_score(clf,  X, y, cv=10, scoring='precision_weighted').mean()\n",
    "    #recall = cross_val_score(clf,  X, y, cv=10, scoring='recall_weighted').mean()\n",
    "    #f1 = cross_val_score(clf, X, y, cv=10, scoring='f1_weighted').mean()\n",
    "    #roc = cross_val_score(clf,  X, y, cv=10, scoring='roc_auc_ovr_weighted').mean()\n",
    "\n",
    "    print(\"\\nSet of hidden layers: {}\".format(nbHiddenLayers))\n",
    "    #print(\"Score on test set: {}\".format(clf.score(pca_test, test_labels)))\n",
    "    print(\"Accuracy = \", acc)\n",
    "    print(\"Precision = \", precision)\n",
    "    print(\"Recall = \", recall)\n",
    "    print(\"f1-score = \", f1)\n",
    "    print(\"Roc score = \", roc)\n",
    "    \n",
    "    Architecture.append(nbHiddenLayers)\n",
    "    Solver.append(\"adam\")\n",
    "    Learning_rate.append(0.001)\n",
    "    Activation.append(\"relu\")\n",
    "    Accuracy.append(acc)\n",
    "    Precision.append(precision)\n",
    "    Recall.append(recall)\n",
    "    F1.append(f1)\n",
    "    ROC.append(roc)"
   ]
  },
  {
   "cell_type": "markdown",
   "metadata": {},
   "source": [
    "With the most performing set of hidden layers of the previous multilayer perceptron, let's test the different activation functions"
   ]
  },
  {
   "cell_type": "markdown",
   "metadata": {},
   "source": [
    "### Activation function changes"
   ]
  },
  {
   "cell_type": "markdown",
   "metadata": {},
   "source": [
    "4 types of activation are considered :\n",
    "- identity : id(x) = x\n",
    "- logistic : $\\sigma (x) = \\frac{1}{1 + exp(-x)}$\n",
    "- tanh : $tanh(x) = \\frac{exp(x) - exp(-x)}{exp(x) + exp(-x)}$\n",
    "- relu (by default): $relu(x) = max(0,x)$"
   ]
  },
  {
   "cell_type": "code",
   "execution_count": 9,
   "metadata": {
    "execution": {
     "iopub.execute_input": "2022-11-26T00:09:36.652342Z",
     "iopub.status.busy": "2022-11-26T00:09:36.651384Z",
     "iopub.status.idle": "2022-11-26T00:10:08.183995Z",
     "shell.execute_reply": "2022-11-26T00:10:08.182335Z",
     "shell.execute_reply.started": "2022-11-26T00:09:36.652289Z"
    }
   },
   "outputs": [],
   "source": [
    "activationFunctions = ['identity', 'logistic', 'tanh', 'relu']\n",
    "\n",
    "clfs = []\n",
    "\n",
    "for function in activationFunctions:\n",
    "    clf = MLPClassifier(hidden_layer_sizes = hidden_layers_sets[-1], activation = function, max_iter = 1500)\n",
    "    clf.fit(pca_train, train_labels)\n",
    "    clfs.append(clf)\n",
    "    \n",
    "    y_pred = clf.predict(pca_test)\n",
    "    y_prob = clf.predict_proba(pca_test)\n",
    "    acc = accuracy_score(test_labels, y_pred)\n",
    "    precision = precision_score(test_labels, y_pred, average = \"weighted\")\n",
    "    recall = recall_score(test_labels, y_pred, average = \"weighted\")\n",
    "    f1 =f1_score(test_labels, y_pred, average = \"weighted\")\n",
    "    roc = roc_auc_score(test_labels, y_prob, average = \"weighted\", multi_class = \"ovr\")\n",
    "    \n",
    "    if function == 'relu':\n",
    "        continue\n",
    "    \n",
    "    Architecture.append(hidden_layers_sets[-1])\n",
    "    Solver.append(\"adam\")\n",
    "    Learning_rate.append(0.001)\n",
    "    Activation.append(function)\n",
    "    Accuracy.append(acc)\n",
    "    Precision.append(precision)\n",
    "    Recall.append(recall)\n",
    "    F1.append(f1)\n",
    "    ROC.append(roc)"
   ]
  },
  {
   "cell_type": "code",
   "execution_count": 10,
   "metadata": {
    "execution": {
     "iopub.execute_input": "2022-11-26T00:10:08.202702Z",
     "iopub.status.busy": "2022-11-26T00:10:08.197265Z",
     "iopub.status.idle": "2022-11-26T00:10:08.807967Z",
     "shell.execute_reply": "2022-11-26T00:10:08.806969Z",
     "shell.execute_reply.started": "2022-11-26T00:10:08.202609Z"
    }
   },
   "outputs": [
    {
     "data": {
      "image/png": "[encoded data removed]",
      "text/plain": [
       "<Figure size 1800x360 with 1 Axes>"
      ]
     },
     "metadata": {
      "needs_background": "light"
     },
     "output_type": "display_data"
    },
    {
     "data": {
      "image/png": "[encoded data removed]",
      "text/plain": [
       "<Figure size 1800x360 with 1 Axes>"
      ]
     },
     "metadata": {
      "needs_background": "light"
     },
     "output_type": "display_data"
    }
   ],
   "source": [
    "train_scores = [clf.score(pca_train, train_labels) for clf in clfs]\n",
    "test_scores = [clf.score(pca_test, test_labels) for clf in clfs]\n",
    "\n",
    "number = [i+1 for i in range(len(activationFunctions))]\n",
    "\n",
    "fig, ax = plt.subplots(figsize=(25, 5))\n",
    "ax.set_xlabel(\"Activation function\")\n",
    "ax.set_ylabel(\"Accuracy\")\n",
    "ax.set_title(\"Accuracy vs activation function for training sets\")\n",
    "ax.bar(number, train_scores, tick_label = activationFunctions, width = 0.8, color = ['blue']) \n",
    "ax.legend()\n",
    "ax.grid()\n",
    "plt.show()\n",
    "\n",
    "fig, ax = plt.subplots(figsize=(25, 5))\n",
    "ax.set_xlabel(\"Activation function\")\n",
    "ax.set_ylabel(\"Accuracy\")\n",
    "ax.set_title(\"Accuracy vs activation function for testing sets\")\n",
    "ax.bar(number, test_scores, tick_label = activationFunctions, width = 0.8, color = ['red'])\n",
    "ax.legend()\n",
    "ax.grid()\n",
    "plt.show()"
   ]
  },
  {
   "cell_type": "markdown",
   "metadata": {},
   "source": [
    "### Solver changes"
   ]
  },
  {
   "cell_type": "markdown",
   "metadata": {},
   "source": [
    "Solvers considered :\n",
    "- lbfgs : quasi-newton family optimization method\n",
    "- sgd : updates weights with one sample at a time in gradient descent\n",
    "- adam (by default): Adaptive moment (order 1 and 2) gradient descent $$Weights := Weights - \\gamma \\ \\frac{V_{w}^{corr} }{\\sqrt{S_{w}^{corr} + \\epsilon}}\\: \\ , \\ \\: Bias := Bias - \\gamma \\ \\frac{V_{b}^{corr}}{\\sqrt{S_{b}^{corr} + \\epsilon}}$$\n",
    "(instead of simply: $ Weights := Weights - \\gamma \\ dW \\ \\ , \\ \\ Bias := Bias - \\gamma \\ dB$)"
   ]
  },
  {
   "cell_type": "code",
   "execution_count": 11,
   "metadata": {
    "execution": {
     "iopub.execute_input": "2022-11-26T00:10:08.809803Z",
     "iopub.status.busy": "2022-11-26T00:10:08.809413Z",
     "iopub.status.idle": "2022-11-26T00:12:33.251701Z",
     "shell.execute_reply": "2022-11-26T00:12:33.250144Z",
     "shell.execute_reply.started": "2022-11-26T00:10:08.809743Z"
    }
   },
   "outputs": [],
   "source": [
    "solvers = ['lbfgs', 'sgd', 'adam']\n",
    "\n",
    "train_scores = []\n",
    "test_scores = []\n",
    "\n",
    "test_prec = []\n",
    "test_rec= []\n",
    "test_f1 = []\n",
    "test_roc = []\n",
    "\n",
    "for solver in solvers:\n",
    "    sum_train = 0\n",
    "    sum_test = 0\n",
    "    \n",
    "    precision = 0\n",
    "    recall = 0\n",
    "    f1 = 0\n",
    "    roc = 0\n",
    "    \n",
    "    # avg accuracy on 5 trials\n",
    "    for i in range(5):\n",
    "        #print(i)\n",
    "        clf = MLPClassifier(hidden_layer_sizes = hidden_layers_sets[-1], activation = 'relu', solver = solver, max_iter = 1500)\n",
    "        clf.fit(pca_train, train_labels)\n",
    "        sum_train += clf.score(pca_train, train_labels)\n",
    "        sum_test += clf.score(pca_test, test_labels)\n",
    "        \n",
    "        y_pred = clf.predict(pca_test)\n",
    "        y_prob = clf.predict_proba(pca_test)\n",
    "        precision += precision_score(test_labels, y_pred, average = \"weighted\")\n",
    "        recall += recall_score(test_labels, y_pred, average = \"weighted\")\n",
    "        f1 +=f1_score(test_labels, y_pred, average = \"weighted\")\n",
    "        roc += roc_auc_score(test_labels, y_prob, average = \"weighted\", multi_class = \"ovr\")\n",
    "        \n",
    "    train_scores.append(sum_train/(i+1))\n",
    "    test_scores.append(sum_test/(i+1))\n",
    "    \n",
    "    if solver == 'adam':\n",
    "        continue\n",
    "    \n",
    "    Architecture.append(hidden_layers_sets[-1])\n",
    "    Solver.append(solver)\n",
    "    Learning_rate.append(0.001)\n",
    "    Activation.append(\"relu\")\n",
    "    Accuracy.append(sum_test/(i+1))\n",
    "    Precision.append(precision/(i+1))\n",
    "    Recall.append(precision/(i+1))\n",
    "    F1.append(f1/(i+1))\n",
    "    ROC.append(roc/(i+1))"
   ]
  },
  {
   "cell_type": "code",
   "execution_count": 12,
   "metadata": {
    "execution": {
     "iopub.execute_input": "2022-11-26T00:12:33.254049Z",
     "iopub.status.busy": "2022-11-26T00:12:33.253534Z",
     "iopub.status.idle": "2022-11-26T00:12:33.736003Z",
     "shell.execute_reply": "2022-11-26T00:12:33.734609Z",
     "shell.execute_reply.started": "2022-11-26T00:12:33.253999Z"
    }
   },
   "outputs": [
    {
     "data": {
      "image/png": "[encoded data removed]",
      "text/plain": [
       "<Figure size 1800x360 with 1 Axes>"
      ]
     },
     "metadata": {
      "needs_background": "light"
     },
     "output_type": "display_data"
    },
    {
     "data": {
      "image/png": "[encoded data removed]",
      "text/plain": [
       "<Figure size 1800x360 with 1 Axes>"
      ]
     },
     "metadata": {
      "needs_background": "light"
     },
     "output_type": "display_data"
    }
   ],
   "source": [
    "number = [i+1 for i in range(len(solvers))]\n",
    "\n",
    "fig, ax = plt.subplots(figsize=(25, 5))\n",
    "ax.set_xlabel(\"Solver\")\n",
    "ax.set_ylabel(\"Accuracy\")\n",
    "ax.set_title(\"Accuracy vs solver for training sets\")\n",
    "ax.bar(number, train_scores, tick_label = solvers, width = 0.8, color = ['blue']) \n",
    "ax.legend()\n",
    "ax.grid()\n",
    "ax.set_ylim(0.995, 1.0)\n",
    "plt.show()\n",
    "\n",
    "fig, ax = plt.subplots(figsize=(25, 5))\n",
    "ax.set_xlabel(\"Solver\")\n",
    "ax.set_ylabel(\"Accuracy\")\n",
    "ax.set_title(\"Accuracy vs solver for testing sets\")\n",
    "ax.bar(number, test_scores, tick_label = solvers, width = 0.8, color = ['red'])\n",
    "ax.legend()\n",
    "ax.grid()\n",
    "ax.set_ylim(0.65, 0.76)\n",
    "plt.show()"
   ]
  },
  {
   "cell_type": "markdown",
   "metadata": {},
   "source": [
    "Adam and lbfgs solvers are the most efficient ones"
   ]
  },
  {
   "cell_type": "markdown",
   "metadata": {},
   "source": [
    "### Learning rate variations"
   ]
  },
  {
   "cell_type": "markdown",
   "metadata": {},
   "source": [
    "- constant learning rate never changes\n",
    "- invscaling (by default): $$\\alpha := \\frac{\\alpha}{\\sqrt{t}} $$\n",
    "- adaptive : learning rate doesn't change if the network loss is decreasing. If two epochs don't succeed at decreasing the loss, then the learning rate is divided by 5"
   ]
  },
  {
   "cell_type": "code",
   "execution_count": 13,
   "metadata": {
    "execution": {
     "iopub.execute_input": "2022-11-26T00:12:33.737774Z",
     "iopub.status.busy": "2022-11-26T00:12:33.737415Z",
     "iopub.status.idle": "2022-11-26T00:28:37.777153Z",
     "shell.execute_reply": "2022-11-26T00:28:37.775370Z",
     "shell.execute_reply.started": "2022-11-26T00:12:33.737728Z"
    }
   },
   "outputs": [
    {
     "name": "stderr",
     "output_type": "stream",
     "text": [
      "Loading...: 100%|██████████| 100/100 [05:30<00:00,  3.30s/it]\n",
      "Loading...: 100%|██████████| 100/100 [05:13<00:00,  3.13s/it]\n",
      "Loading...: 100%|██████████| 100/100 [05:20<00:00,  3.20s/it]\n"
     ]
    }
   ],
   "source": [
    "learning_rate = ['constant', 'invscaling', 'adaptive']\n",
    "learning_rate_init = np.linspace(0.01, 0.001, 100)\n",
    "# power_t = np.linspace(0.5, 2, 4)\n",
    "\n",
    "clfs = []\n",
    "\n",
    "for mode in learning_rate:\n",
    "    \n",
    "    clfs.append([])\n",
    "    \n",
    "#     for alpha in learning_rate_init:\n",
    "    for i in tqdm (range (len(learning_rate_init)), desc=\"Loading...\"): \n",
    "        clf = MLPClassifier(hidden_layer_sizes = hidden_layers_sets[-1], activation = 'relu', solver = 'adam', max_iter = 1500, learning_rate = mode, learning_rate_init = learning_rate_init[i], power_t = 0.2)\n",
    "        clf.fit(pca_train, train_labels)\n",
    "        clfs[-1].append(clf)"
   ]
  },
  {
   "cell_type": "code",
   "execution_count": 14,
   "metadata": {
    "execution": {
     "iopub.execute_input": "2022-11-26T00:28:37.780830Z",
     "iopub.status.busy": "2022-11-26T00:28:37.779774Z",
     "iopub.status.idle": "2022-11-26T00:28:39.218159Z",
     "shell.execute_reply": "2022-11-26T00:28:39.216857Z",
     "shell.execute_reply.started": "2022-11-26T00:28:37.780738Z"
    }
   },
   "outputs": [
    {
     "data": {
      "image/png": "[encoded data removed]",
      "text/plain": [
       "<Figure size 2160x360 with 1 Axes>"
      ]
     },
     "metadata": {
      "needs_background": "light"
     },
     "output_type": "display_data"
    },
    {
     "data": {
      "image/png": "[encoded data removed]",
      "text/plain": [
       "<Figure size 2160x360 with 1 Axes>"
      ]
     },
     "metadata": {
      "needs_background": "light"
     },
     "output_type": "display_data"
    },
    {
     "data": {
      "image/png": "[encoded data removed]",
      "text/plain": [
       "<Figure size 2160x360 with 1 Axes>"
      ]
     },
     "metadata": {
      "needs_background": "light"
     },
     "output_type": "display_data"
    }
   ],
   "source": [
    "test_scores = []\n",
    "\n",
    "for i in range(len(clfs)):\n",
    "    \n",
    "    test_scores.append([])\n",
    "    test_scores[-1] = [clf.score(pca_test, test_labels) for clf in clfs[i]]\n",
    "\n",
    "    fig, ax = plt.subplots(figsize=(30, 5))\n",
    "    ax.set_xlabel(\"Learning rate\")\n",
    "    ax.set_ylabel(\"Accuracy\")\n",
    "    ax.set_title(\"Accuracy vs learning rate for testing sets, mode = {}\".format(learning_rate[i]))\n",
    "    ax.plot(learning_rate_init, test_scores[-1], marker=\"o\", label=\"test\", drawstyle=\"steps-post\")\n",
    "    ax.legend()\n",
    "    ax.grid()\n",
    "    plt.show()"
   ]
  },
  {
   "cell_type": "markdown",
   "metadata": {},
   "source": [
    "Better learning rates are at $10^{-3}$, not so much amelioration with different learning rate adapters."
   ]
  },
  {
   "cell_type": "markdown",
   "metadata": {},
   "source": [
    "## Table of results "
   ]
  },
  {
   "cell_type": "code",
   "execution_count": 15,
   "metadata": {
    "execution": {
     "iopub.execute_input": "2022-11-26T00:28:39.220702Z",
     "iopub.status.busy": "2022-11-26T00:28:39.220200Z",
     "iopub.status.idle": "2022-11-26T00:28:39.249493Z",
     "shell.execute_reply": "2022-11-26T00:28:39.248245Z",
     "shell.execute_reply.started": "2022-11-26T00:28:39.220639Z"
    }
   },
   "outputs": [
    {
     "name": "stdout",
     "output_type": "stream",
     "text": [
      "   Architecture Solver  Learning rate Activation  Accuracy  Weighted Precision  Weighted Recall  Weighted F1 Score  Weighted AUC\n",
      "0         (20,)   adam          0.001       relu  0.736041            0.777975         0.736041           0.691266      0.823706\n",
      "1      (20, 20)   adam          0.001       relu  0.690355            0.722572         0.690355           0.641788      0.817036\n",
      "2  (20, 20, 20)   adam          0.001       relu  0.710660            0.736129         0.710660           0.664994      0.806301\n",
      "3  (20, 20, 20)   adam          0.001   identity  0.441624            0.458567         0.441624           0.419910      0.662383\n",
      "4  (20, 20, 20)   adam          0.001   logistic  0.647208            0.703808         0.647208           0.600834      0.822331\n",
      "5  (20, 20, 20)   adam          0.001       tanh  0.675127            0.716575         0.675127           0.637549      0.808241\n",
      "6  (20, 20, 20)  lbfgs          0.001       relu  0.734518            0.788006         0.788006           0.689393      0.825905\n",
      "7  (20, 20, 20)    sgd          0.001       relu  0.725381            0.774981         0.774981           0.680414      0.835355\n"
     ]
    }
   ],
   "source": [
    "data = {'Architecture':  Architecture,\n",
    "        'Solver': Solver,\n",
    "        \"Learning rate\": Learning_rate,\n",
    "        \"Activation\": Activation,\n",
    "        'Accuracy' : Accuracy,\n",
    "        'Weighted Precision': Precision,\n",
    "        'Weighted Recall' : Recall,\n",
    "        'Weighted F1 Score' : F1,\n",
    "        'Weighted AUC' : ROC\n",
    "        }\n",
    "\n",
    "resume = pd.DataFrame(data)\n",
    "pd.set_option('expand_frame_repr', False)\n",
    "\n",
    "print(resume)"
   ]
  },
  {
   "cell_type": "markdown",
   "metadata": {},
   "source": [
    "# Multilayer Perceptron optimization"
   ]
  },
  {
   "cell_type": "code",
   "execution_count": 16,
   "metadata": {
    "execution": {
     "iopub.execute_input": "2022-11-26T00:28:39.252034Z",
     "iopub.status.busy": "2022-11-26T00:28:39.251147Z",
     "iopub.status.idle": "2022-11-26T00:32:39.809465Z",
     "shell.execute_reply": "2022-11-26T00:32:39.807007Z",
     "shell.execute_reply.started": "2022-11-26T00:28:39.251980Z"
    }
   },
   "outputs": [
    {
     "data": {
      "text/plain": [
       "GridSearchCV(cv=5, estimator=MLPClassifier(max_iter=1500), n_jobs=-1,\n",
       "             param_grid={'activation': ['relu'],\n",
       "                         'alpha': array([0.001, 0.012, 0.023, 0.034, 0.045, 0.056, 0.067, 0.078, 0.089,\n",
       "       0.1  ]),\n",
       "                         'hidden_layer_sizes': [(40,), (40, 35), (30, 20, 15),\n",
       "                                                (20, 25, 15)],\n",
       "                         'learning_rate': ['adaptive'], 'solver': ['adam']})"
      ]
     },
     "execution_count": 16,
     "metadata": {},
     "output_type": "execute_result"
    }
   ],
   "source": [
    "mlp_gs = MLPClassifier(max_iter=1500)\n",
    "parameter_space = {\n",
    "    'hidden_layer_sizes': [(40,), (40, 35,), (30, 20, 15), (20, 25, 15,)],\n",
    "    'activation': ['relu'],\n",
    "    'solver': ['adam'],\n",
    "    'alpha': np.linspace(0.001, 0.1, 10),\n",
    "    'learning_rate': ['adaptive'],\n",
    "}\n",
    "\n",
    "from sklearn.model_selection import GridSearchCV\n",
    "clf = GridSearchCV(mlp_gs, parameter_space, n_jobs=-1, cv=5)\n",
    "clf.fit(pca_train, train_labels)"
   ]
  },
  {
   "cell_type": "code",
   "execution_count": 17,
   "metadata": {
    "execution": {
     "iopub.execute_input": "2022-11-26T00:32:39.815457Z",
     "iopub.status.busy": "2022-11-26T00:32:39.813100Z",
     "iopub.status.idle": "2022-11-26T00:32:39.827642Z",
     "shell.execute_reply": "2022-11-26T00:32:39.825744Z",
     "shell.execute_reply.started": "2022-11-26T00:32:39.815358Z"
    }
   },
   "outputs": [
    {
     "name": "stdout",
     "output_type": "stream",
     "text": [
      "Best parameters found:\n",
      " {'activation': 'relu', 'alpha': 0.1, 'hidden_layer_sizes': (40, 35), 'learning_rate': 'adaptive', 'solver': 'adam'}\n"
     ]
    }
   ],
   "source": [
    "print('Best parameters found:\\n', clf.best_params_)"
   ]
  },
  {
   "cell_type": "markdown",
   "metadata": {},
   "source": [
    "# Multilayer Perceptron on 3 data sets"
   ]
  },
  {
   "cell_type": "markdown",
   "metadata": {},
   "source": [
    "## Set 1"
   ]
  },
  {
   "cell_type": "code",
   "execution_count": 18,
   "metadata": {
    "execution": {
     "iopub.execute_input": "2022-11-26T00:32:39.832073Z",
     "iopub.status.busy": "2022-11-26T00:32:39.830583Z",
     "iopub.status.idle": "2022-11-26T00:32:50.193323Z",
     "shell.execute_reply": "2022-11-26T00:32:50.191582Z",
     "shell.execute_reply.started": "2022-11-26T00:32:39.831986Z"
    }
   },
   "outputs": [],
   "source": [
    "ML = MLPClassifier(hidden_layer_sizes = hidden_layers_sets[-1], max_iter = 1500)\n",
    "clf1 = ML.fit(pca_train, train_labels)"
   ]
  },
  {
   "cell_type": "code",
   "execution_count": 19,
   "metadata": {
    "execution": {
     "iopub.execute_input": "2022-11-26T00:32:50.196566Z",
     "iopub.status.busy": "2022-11-26T00:32:50.195596Z",
     "iopub.status.idle": "2022-11-26T00:32:50.217673Z",
     "shell.execute_reply": "2022-11-26T00:32:50.216429Z",
     "shell.execute_reply.started": "2022-11-26T00:32:50.196511Z"
    }
   },
   "outputs": [
    {
     "name": "stdout",
     "output_type": "stream",
     "text": [
      "Training Accuracy...1.0\n",
      "Test Accuracy...0.7081218274111675\n"
     ]
    }
   ],
   "source": [
    "train_scores = clf1.score(pca_train, train_labels)\n",
    "test_scores = clf1.score(pca_test, test_labels) \n",
    "\n",
    "print(f\"Training Accuracy...{train_scores}\")\n",
    "print(f\"Test Accuracy...{test_scores}\")"
   ]
  },
  {
   "cell_type": "markdown",
   "metadata": {},
   "source": [
    "With the optimized MLP"
   ]
  },
  {
   "cell_type": "code",
   "execution_count": 20,
   "metadata": {
    "execution": {
     "iopub.execute_input": "2022-11-26T00:32:50.230726Z",
     "iopub.status.busy": "2022-11-26T00:32:50.225846Z",
     "iopub.status.idle": "2022-11-26T00:32:50.255895Z",
     "shell.execute_reply": "2022-11-26T00:32:50.254551Z",
     "shell.execute_reply.started": "2022-11-26T00:32:50.230635Z"
    }
   },
   "outputs": [
    {
     "name": "stdout",
     "output_type": "stream",
     "text": [
      "\n",
      " Grid Search CV\n",
      "Training Accuracy...1.0\n",
      "Test Accuracy...0.7461928934010152\n"
     ]
    }
   ],
   "source": [
    "train_scores = clf.score(pca_train, train_labels)\n",
    "test_scores = clf.score(pca_test, test_labels) \n",
    "\n",
    "print(\"\\n Grid Search CV\")\n",
    "print(f\"Training Accuracy...{train_scores}\")\n",
    "print(f\"Test Accuracy...{test_scores}\")"
   ]
  },
  {
   "cell_type": "markdown",
   "metadata": {},
   "source": [
    "## Set 2"
   ]
  },
  {
   "cell_type": "code",
   "execution_count": 21,
   "metadata": {
    "execution": {
     "iopub.execute_input": "2022-11-26T00:32:50.258343Z",
     "iopub.status.busy": "2022-11-26T00:32:50.257572Z",
     "iopub.status.idle": "2022-11-26T00:32:50.276597Z",
     "shell.execute_reply": "2022-11-26T00:32:50.274196Z",
     "shell.execute_reply.started": "2022-11-26T00:32:50.258295Z"
    }
   },
   "outputs": [],
   "source": [
    "from sklearn.model_selection import train_test_split\n",
    "\n",
    "x_train_30, x_test_30, y_train_30, y_test_30 = train_test_split(pca_train, train_labels, test_size=0.30, random_state=42)\n",
    "\n",
    "new_test_data = np.hstack((x_test_30, y_test_30[:,None]))\n",
    "\n",
    "all_test_data = np.vstack((new_test_data, data_test))\n",
    "x_test_30 = all_test_data[:,:-1]\n",
    "y_test_30 = all_test_data[:,-1]"
   ]
  },
  {
   "cell_type": "code",
   "execution_count": 22,
   "metadata": {
    "execution": {
     "iopub.execute_input": "2022-11-26T00:32:50.279407Z",
     "iopub.status.busy": "2022-11-26T00:32:50.278646Z",
     "iopub.status.idle": "2022-11-26T00:32:58.445743Z",
     "shell.execute_reply": "2022-11-26T00:32:58.444030Z",
     "shell.execute_reply.started": "2022-11-26T00:32:50.279357Z"
    }
   },
   "outputs": [],
   "source": [
    "clf2 = ML.fit(x_train_30, y_train_30)"
   ]
  },
  {
   "cell_type": "code",
   "execution_count": 23,
   "metadata": {
    "execution": {
     "iopub.execute_input": "2022-11-26T00:32:58.448684Z",
     "iopub.status.busy": "2022-11-26T00:32:58.447822Z",
     "iopub.status.idle": "2022-11-26T00:32:58.472754Z",
     "shell.execute_reply": "2022-11-26T00:32:58.471432Z",
     "shell.execute_reply.started": "2022-11-26T00:32:58.448634Z"
    }
   },
   "outputs": [
    {
     "name": "stdout",
     "output_type": "stream",
     "text": [
      "Training Accuracy...1.0\n",
      "Test Accuracy...0.7243027888446215\n"
     ]
    }
   ],
   "source": [
    "train_scores = clf2.score(x_train_30, y_train_30)\n",
    "test_scores = clf2.score(x_test_30, y_test_30) \n",
    "\n",
    "print(f\"Training Accuracy...{train_scores}\")\n",
    "print(f\"Test Accuracy...{test_scores}\")"
   ]
  },
  {
   "cell_type": "markdown",
   "metadata": {},
   "source": [
    "With the optimized MLP"
   ]
  },
  {
   "cell_type": "code",
   "execution_count": 24,
   "metadata": {
    "execution": {
     "iopub.execute_input": "2022-11-26T00:32:58.475949Z",
     "iopub.status.busy": "2022-11-26T00:32:58.475019Z",
     "iopub.status.idle": "2022-11-26T00:32:58.500609Z",
     "shell.execute_reply": "2022-11-26T00:32:58.499406Z",
     "shell.execute_reply.started": "2022-11-26T00:32:58.475896Z"
    }
   },
   "outputs": [
    {
     "name": "stdout",
     "output_type": "stream",
     "text": [
      "\n",
      " Grid Search CV\n",
      "Training Accuracy...1.0\n",
      "Test Accuracy...0.9203187250996016\n"
     ]
    }
   ],
   "source": [
    "train_scores = clf.score(x_train_30, y_train_30)\n",
    "test_scores = clf.score(x_test_30, y_test_30) \n",
    "\n",
    "print(\"\\n Grid Search CV\")\n",
    "print(f\"Training Accuracy...{train_scores}\")\n",
    "print(f\"Test Accuracy...{test_scores}\")"
   ]
  },
  {
   "cell_type": "markdown",
   "metadata": {},
   "source": [
    "## Set 3"
   ]
  },
  {
   "cell_type": "code",
   "execution_count": 25,
   "metadata": {
    "execution": {
     "iopub.execute_input": "2022-11-26T00:32:58.502892Z",
     "iopub.status.busy": "2022-11-26T00:32:58.502275Z",
     "iopub.status.idle": "2022-11-26T00:32:58.538987Z",
     "shell.execute_reply": "2022-11-26T00:32:58.537229Z",
     "shell.execute_reply.started": "2022-11-26T00:32:58.502844Z"
    }
   },
   "outputs": [],
   "source": [
    "from sklearn.model_selection import train_test_split\n",
    "\n",
    "x_train_60, x_test_60, y_train_60, y_test_60 = train_test_split(pca_train, train_labels, test_size=0.60, random_state=42)\n",
    "\n",
    "new_test_data = np.hstack((x_test_60, y_test_60[:,None]))\n",
    "\n",
    "all_test_data = np.vstack((new_test_data, data_test))\n",
    "x_test_60 = all_test_data[:,:-1]\n",
    "y_test_60 = all_test_data[:,-1]"
   ]
  },
  {
   "cell_type": "code",
   "execution_count": 26,
   "metadata": {
    "execution": {
     "iopub.execute_input": "2022-11-26T00:32:58.552753Z",
     "iopub.status.busy": "2022-11-26T00:32:58.547864Z",
     "iopub.status.idle": "2022-11-26T00:33:02.951113Z",
     "shell.execute_reply": "2022-11-26T00:33:02.949358Z",
     "shell.execute_reply.started": "2022-11-26T00:32:58.552663Z"
    }
   },
   "outputs": [],
   "source": [
    "clf3 = ML.fit(x_train_60, y_train_60)"
   ]
  },
  {
   "cell_type": "code",
   "execution_count": 27,
   "metadata": {
    "execution": {
     "iopub.execute_input": "2022-11-26T00:33:02.965334Z",
     "iopub.status.busy": "2022-11-26T00:33:02.960410Z",
     "iopub.status.idle": "2022-11-26T00:33:02.996257Z",
     "shell.execute_reply": "2022-11-26T00:33:02.994376Z",
     "shell.execute_reply.started": "2022-11-26T00:33:02.965247Z"
    }
   },
   "outputs": [
    {
     "name": "stdout",
     "output_type": "stream",
     "text": [
      "Training Accuracy...1.0\n",
      "Test Accuracy...0.6999054820415879\n"
     ]
    }
   ],
   "source": [
    "train_scores = clf3.score(x_train_60, y_train_60)\n",
    "test_scores = clf3.score(x_test_60, y_test_60)  \n",
    "\n",
    "print(f\"Training Accuracy...{train_scores}\")\n",
    "print(f\"Test Accuracy...{test_scores}\")"
   ]
  },
  {
   "cell_type": "markdown",
   "metadata": {},
   "source": [
    "With the optimized MLP"
   ]
  },
  {
   "cell_type": "code",
   "execution_count": 28,
   "metadata": {
    "execution": {
     "iopub.execute_input": "2022-11-26T00:33:03.017600Z",
     "iopub.status.busy": "2022-11-26T00:33:03.012825Z",
     "iopub.status.idle": "2022-11-26T00:33:03.049166Z",
     "shell.execute_reply": "2022-11-26T00:33:03.047414Z",
     "shell.execute_reply.started": "2022-11-26T00:33:03.017514Z"
    }
   },
   "outputs": [
    {
     "name": "stdout",
     "output_type": "stream",
     "text": [
      "\n",
      " Grid Search CV\n",
      "Training Accuracy...1.0\n",
      "Test Accuracy...0.9527410207939508\n"
     ]
    }
   ],
   "source": [
    "train_scores = clf.score(x_train_60, y_train_60)\n",
    "test_scores = clf.score(x_test_60, y_test_60)  \n",
    "\n",
    "print(\"\\n Grid Search CV\")\n",
    "print(f\"Training Accuracy...{train_scores}\")\n",
    "print(f\"Test Accuracy...{test_scores}\")"
   ]
  },
  {
   "cell_type": "code",
   "execution_count": null,
   "metadata": {},
   "outputs": [],
   "source": []
  }
 ],
 "metadata": {
  "kernelspec": {
   "display_name": "Python 3 (ipykernel)",
   "language": "python",
   "name": "python3"
  },
  "language_info": {
   "codemirror_mode": {
    "name": "ipython",
    "version": 3
   },
   "file_extension": ".py",
   "mimetype": "text/x-python",
   "name": "python",
   "nbconvert_exporter": "python",
   "pygments_lexer": "ipython3",
   "version": "3.9.7"
  }
 },
 "nbformat": 4,
 "nbformat_minor": 4
}
