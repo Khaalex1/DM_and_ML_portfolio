{
 "cells": [
  {
   "cell_type": "markdown",
   "id": "5b34a434",
   "metadata": {},
   "source": [
    "<a href=\"https://www.kaggle.com/code/tinuadeadeleke/lab-1?scriptVersionId=106159349\" target=\"_blank\"><img align=\"left\" alt=\"Kaggle\" title=\"Open in Kaggle\" src=\"https://kaggle.com/static/images/open-in-kaggle.svg\"></a>"
   ]
  },
  {
   "cell_type": "markdown",
   "id": "f53fe411",
   "metadata": {
    "papermill": {
     "duration": 0.003038,
     "end_time": "2022-09-21T02:23:55.185527",
     "exception": false,
     "start_time": "2022-09-21T02:23:55.182489",
     "status": "completed"
    },
    "tags": []
   },
   "source": [
    "# Choosing a dataset"
   ]
  },
  {
   "cell_type": "markdown",
   "id": "5e56704b",
   "metadata": {
    "papermill": {
     "duration": 0.001727,
     "end_time": "2022-09-21T02:23:55.189756",
     "exception": false,
     "start_time": "2022-09-21T02:23:55.188029",
     "status": "completed"
    },
    "tags": []
   },
   "source": [
    "We narrowed down our search terms to computer vision, neurological and health related datasets based on a common interest in the mentioned fields amongst the team members. We searched for datsets on the following platforms:\n",
    "* [Kaggle](https://kaggle.com)\n",
    "* [Google dataset](https://datasetsearch.research.google.com)\n",
    "* [Physionet](https://physionet.org)\n",
    "\n",
    "The following datasets were proposed by the group members\n",
    "* [EEG data from mental concentration](https://physionet.org/content/eegmat/1.0.0/)\n",
    "* [Breast Ultrasound Images Dataset](https://www.kaggle.com/datasets/aryashah2k/breast-ultrasound-images-dataset)\n",
    "* [Brain Tumor Classification(MRI)](https://www.kaggle.com/datasets/sartajbhuvaji/brain-tumor-classification-mri?datasetId=672377&sortBy=voteCount)\n",
    "\n",
    "The dataset **Brain Tumor Classification(MRI)** was chosen and the rest of the notebook details the comparisons and similarities between the proposed datasets and the reasons for the chosen dataset."
   ]
  },
  {
   "cell_type": "markdown",
   "id": "1f2a3509",
   "metadata": {
    "papermill": {
     "duration": 0.00168,
     "end_time": "2022-09-21T02:23:55.193472",
     "exception": false,
     "start_time": "2022-09-21T02:23:55.191792",
     "status": "completed"
    },
    "tags": []
   },
   "source": [
    "## EEG data from mental concentration\n",
    "This data was sourced from physionet and it contains the recordings of EEG recordings of subjects before and during the performance of mental arithmetic tasks. The dataset contains 2 EEG files provided in EDF format for each subject,one before the mental task and one during the mental task. \n",
    "\n",
    "The dataset also contains basic information about each subject such as gender, age, job, date of recording and their performance of a given arithmetic task.\n",
    "The dataset has a lot of attributes from about 20 EEG channels coupled with the basic information about each subject. This would have enabled us to explore how each feature affects the arithmetic performance of subject, make predictions on arithmetic performance such as age or gender. However working with this dataset would have required some Computational neuroscience domain knowledge and expertise in image processing and this might not be the best use of the limited time we have for this coursework. We want something that is challenging but not so challenging that we would not be able to achieve anything within a short period of time.\n",
    "\n",
    "\n",
    "\n",
    "<img src=\"images/eeg.png\" width=\"500\"/>\n",
    "\n",
    "$$Figure \\ 1 \\ : Example \\ of \\ EEG$$\n"
   ]
  },
  {
   "cell_type": "markdown",
   "id": "3e7267fa",
   "metadata": {
    "papermill": {
     "duration": 0.002109,
     "end_time": "2022-09-21T02:23:55.197474",
     "exception": false,
     "start_time": "2022-09-21T02:23:55.195365",
     "status": "completed"
    },
    "tags": []
   },
   "source": [
    "## Breast Ultrasound Images Dataset \n",
    "\n",
    "This is data was gotten from kaggle and it includes breast ultrasound images of women between 25 and 75 years of age. It contains 780 images in png format of size 500 * 500 pixels from 600 female patients. The images are of three classes:\n",
    "* Normal\n",
    "* Benign and\n",
    "* Malignant\n",
    "\n",
    "The data set is suitable for performing classification tasks and it would also allow us to run complex ML technique such as deep learning algorithms. However, we would prefer to work with a much larger dataset to ensure that our models are properly trained.\n",
    "\n",
    "<img src=\"images/malignant_breast.png\" width=\"500\"/>\n",
    "\n",
    "\n",
    "$$Figure \\ 2 \\ : Example \\ of \\ malignant \\ breast \\ cancer$$"
   ]
  },
  {
   "cell_type": "markdown",
   "id": "be03f7d3",
   "metadata": {
    "papermill": {
     "duration": 0.001656,
     "end_time": "2022-09-21T02:23:55.201041",
     "exception": false,
     "start_time": "2022-09-21T02:23:55.199385",
     "status": "completed"
    },
    "tags": []
   },
   "source": [
    "## Brain Tumor Classification (MRI)\n",
    "\n",
    "This dataset was gotten from kaggle. 3264 MRIs of brain tumors and the images are of four classes:\n",
    "* Glioma tumor\n",
    "* Meningioma tumor\n",
    "* No tumor\n",
    "* Pituitary tumor\n",
    "\n",
    "Similarly to the Breast Ultrasound Images dataset,this dataset is also suitable for performing classification tasks and would also allow us explore complex ML technique such as deep learning algorithms. However, we have chosen to work with this dataset because it is a much larger dataset than the former.\n",
    "\n",
    "<img src=\"images/meningioma.png\" width=\"500\"/>\n",
    "\n",
    "\n",
    "$$Figure \\ 3 \\ : Example \\ of \\ Meningioma \\ tumor$$"
   ]
  },
  {
   "cell_type": "code",
   "execution_count": null,
   "id": "17c06026",
   "metadata": {},
   "outputs": [],
   "source": []
  }
 ],
 "metadata": {
  "kernelspec": {
   "display_name": "Python 3 (ipykernel)",
   "language": "python",
   "name": "python3"
  },
  "language_info": {
   "codemirror_mode": {
    "name": "ipython",
    "version": 3
   },
   "file_extension": ".py",
   "mimetype": "text/x-python",
   "name": "python",
   "nbconvert_exporter": "python",
   "pygments_lexer": "ipython3",
   "version": "3.9.7"
  },
  "papermill": {
   "default_parameters": {},
   "duration": 9.451339,
   "end_time": "2022-09-21T02:23:55.826372",
   "environment_variables": {},
   "exception": null,
   "input_path": "__notebook__.ipynb",
   "output_path": "__notebook__.ipynb",
   "parameters": {},
   "start_time": "2022-09-21T02:23:46.375033",
   "version": "2.3.4"
  }
 },
 "nbformat": 4,
 "nbformat_minor": 5
}
