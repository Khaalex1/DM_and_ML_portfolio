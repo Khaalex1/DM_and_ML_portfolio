{
 "cells": [
  {
   "cell_type": "code",
   "execution_count": 1,
   "id": "0b4bda77",
   "metadata": {
    "_cell_guid": "b1076dfc-b9ad-4769-8c92-a6c4dae69d19",
    "_uuid": "8f2839f25d086af736a60e9eeb907d3b93b6e0e5",
    "execution": {
     "iopub.execute_input": "2022-11-18T15:15:49.498844Z",
     "iopub.status.busy": "2022-11-18T15:15:49.498341Z",
     "iopub.status.idle": "2022-11-18T15:15:50.740993Z",
     "shell.execute_reply": "2022-11-18T15:15:50.739845Z"
    },
    "papermill": {
     "duration": 1.25904,
     "end_time": "2022-11-18T15:15:50.743964",
     "exception": false,
     "start_time": "2022-11-18T15:15:49.484924",
     "status": "completed"
    },
    "tags": []
   },
   "outputs": [],
   "source": [
    "import os\n",
    "import cv2\n",
    "import random\n",
    "import numpy as np \n",
    "import pandas as pd \n",
    "import seaborn as sns\n",
    "from tqdm import tqdm\n",
    "\n",
    "# Scikit-Learn ≥0.20 is required\n",
    "import sklearn\n",
    "assert sklearn.__version__ >= \"0.20\"\n",
    "\n",
    "# To plot pretty figures\n",
    "%matplotlib inline\n",
    "import matplotlib as mlp\n",
    "import matplotlib.pyplot as plt"
   ]
  },
  {
   "cell_type": "markdown",
   "id": "d5fefdfd",
   "metadata": {
    "papermill": {
     "duration": 0.01217,
     "end_time": "2022-11-18T15:15:50.766809",
     "exception": false,
     "start_time": "2022-11-18T15:15:50.754639",
     "status": "completed"
    },
    "tags": []
   },
   "source": [
    "## Data Loading"
   ]
  },
  {
   "cell_type": "code",
   "execution_count": 2,
   "id": "b7909188",
   "metadata": {
    "execution": {
     "iopub.execute_input": "2022-11-18T15:15:50.789540Z",
     "iopub.status.busy": "2022-11-18T15:15:50.789115Z",
     "iopub.status.idle": "2022-11-18T15:16:21.387271Z",
     "shell.execute_reply": "2022-11-18T15:16:21.386095Z"
    },
    "papermill": {
     "duration": 30.618012,
     "end_time": "2022-11-18T15:16:21.395293",
     "exception": false,
     "start_time": "2022-11-18T15:15:50.777281",
     "status": "completed"
    },
    "tags": []
   },
   "outputs": [
    {
     "name": "stdout",
     "output_type": "stream",
     "text": [
      "train_img shape :  (2870, 255, 255)\n",
      "train_labels shape :  (2870,)\n",
      "test_img shape :  (394, 255, 255)\n",
      "test_labels shape :  (394,)\n"
     ]
    }
   ],
   "source": [
    "labels = ['glioma_tumor', 'meningioma_tumor', 'no_tumor', 'pituitary_tumor']\n",
    "train_img = [] #contains the images used for training the model\n",
    "test_img = []\n",
    "train_labels = [] #label of each image in x_train \n",
    "test_labels = []\n",
    "TRAIN_PATH = '../input/brain-tumor-classification-mri/Training'\n",
    "TEST_PATH = '../input/brain-tumor-classification-mri/Testing'\n",
    "new_size = (255, 255)\n",
    "\n",
    "for label in labels:\n",
    "    img_dir = os.path.join(TRAIN_PATH, label)\n",
    "    for img_file in os.listdir(img_dir):\n",
    "        img = cv2.imread(f'{img_dir}/{img_file}')\n",
    "        img = cv2.resize(img, new_size)\n",
    "        img = cv2.cvtColor(img, cv2.COLOR_RGB2GRAY)/255\n",
    "        train_img.append(img)\n",
    "        train_labels.append(label)\n",
    "        \n",
    "train_img = np.stack(train_img)\n",
    "train_labels = np.stack(train_labels)\n",
    "\n",
    "print(\"train_img shape : \", train_img.shape)\n",
    "print(\"train_labels shape : \", train_labels.shape)\n",
    "\n",
    "for label in labels:\n",
    "    img_dir = os.path.join(TEST_PATH, label)\n",
    "    for img_file in os.listdir(img_dir):\n",
    "        img = cv2.imread(f'{img_dir}/{img_file}')\n",
    "        img = cv2.resize(img, new_size)\n",
    "        img = cv2.cvtColor(img, cv2.COLOR_RGB2GRAY)/255\n",
    "        test_img.append(img)\n",
    "        test_labels.append(label)\n",
    "        \n",
    "test_img = np.stack(test_img)\n",
    "test_labels = np.stack(test_labels)\n",
    "\n",
    "print(\"test_img shape : \", test_img.shape)\n",
    "print(\"test_labels shape : \", test_labels.shape)\n",
    "\n",
    "class_map = {\n",
    "    'no_tumor': 0,\n",
    "    'glioma_tumor': 1,\n",
    "    'pituitary_tumor': 2,\n",
    "    'meningioma_tumor': 3\n",
    "}\n",
    "\n",
    "train_labels = np.array([class_map[label] for label in train_labels])\n",
    "test_labels = np.array([class_map[label] for label in test_labels])"
   ]
  },
  {
   "cell_type": "markdown",
   "id": "b3907660",
   "metadata": {
    "papermill": {
     "duration": 0.010583,
     "end_time": "2022-11-18T15:16:21.416433",
     "exception": false,
     "start_time": "2022-11-18T15:16:21.405850",
     "status": "completed"
    },
    "tags": []
   },
   "source": [
    "## Data pre-processing"
   ]
  },
  {
   "cell_type": "code",
   "execution_count": 3,
   "id": "d6e08908",
   "metadata": {
    "execution": {
     "iopub.execute_input": "2022-11-18T15:16:21.438977Z",
     "iopub.status.busy": "2022-11-18T15:16:21.438565Z",
     "iopub.status.idle": "2022-11-18T15:16:47.343776Z",
     "shell.execute_reply": "2022-11-18T15:16:47.342013Z"
    },
    "papermill": {
     "duration": 25.92151,
     "end_time": "2022-11-18T15:16:47.348314",
     "exception": false,
     "start_time": "2022-11-18T15:16:21.426804",
     "status": "completed"
    },
    "tags": []
   },
   "outputs": [],
   "source": [
    "from sklearn.preprocessing import StandardScaler, MinMaxScaler #the Standard Scaler : X2 = (X1 - E(X1))/sqrt(Var(X1))\n",
    "from sklearn.decomposition import PCA\n",
    "\n",
    "train_img = train_img.reshape((train_img.shape[0], 255*255))\n",
    "test_img = test_img.reshape((test_img.shape[0], 255*255))\n",
    "S = StandardScaler()\n",
    "X_train = S.fit_transform(train_img)\n",
    "X_test = S.transform(test_img)\n",
    "P = PCA(n_components = 100)\n",
    "pca_train = P.fit_transform(X_train)\n",
    "pca_test = P.transform(X_test)"
   ]
  },
  {
   "cell_type": "code",
   "execution_count": 4,
   "id": "71fbfacf",
   "metadata": {
    "execution": {
     "iopub.execute_input": "2022-11-18T15:16:47.407237Z",
     "iopub.status.busy": "2022-11-18T15:16:47.406547Z",
     "iopub.status.idle": "2022-11-18T15:16:47.423413Z",
     "shell.execute_reply": "2022-11-18T15:16:47.421843Z"
    },
    "papermill": {
     "duration": 0.051606,
     "end_time": "2022-11-18T15:16:47.428162",
     "exception": false,
     "start_time": "2022-11-18T15:16:47.376556",
     "status": "completed"
    },
    "tags": []
   },
   "outputs": [],
   "source": [
    "data_train = np.hstack((pca_train, train_labels[:,None]))\n",
    "data_test = np.hstack((pca_test, test_labels[:,None]))\n",
    "\n",
    "all_data = np.vstack((data_train, data_test))\n",
    "X = all_data[:,:-1]\n",
    "y = all_data[:,-1]"
   ]
  },
  {
   "cell_type": "markdown",
   "id": "733f7d98",
   "metadata": {
    "papermill": {
     "duration": 0.012782,
     "end_time": "2022-11-18T15:16:47.471003",
     "exception": false,
     "start_time": "2022-11-18T15:16:47.458221",
     "status": "completed"
    },
    "tags": []
   },
   "source": [
    "# Multilayer Perceptron"
   ]
  },
  {
   "cell_type": "code",
   "execution_count": 5,
   "id": "7a634ebf",
   "metadata": {
    "execution": {
     "iopub.execute_input": "2022-11-18T15:16:47.494245Z",
     "iopub.status.busy": "2022-11-18T15:16:47.493866Z",
     "iopub.status.idle": "2022-11-18T15:16:47.506042Z",
     "shell.execute_reply": "2022-11-18T15:16:47.505234Z"
    },
    "papermill": {
     "duration": 0.026124,
     "end_time": "2022-11-18T15:16:47.508191",
     "exception": false,
     "start_time": "2022-11-18T15:16:47.482067",
     "status": "completed"
    },
    "tags": []
   },
   "outputs": [],
   "source": [
    "from sklearn.neural_network import MLPClassifier\n",
    "from sklearn.metrics import accuracy_score, precision_score, recall_score, roc_auc_score, confusion_matrix, f1_score\n",
    "from sklearn.model_selection import cross_validate, cross_val_score"
   ]
  },
  {
   "cell_type": "code",
   "execution_count": 6,
   "id": "4285b2a9",
   "metadata": {
    "execution": {
     "iopub.execute_input": "2022-11-18T15:16:47.531627Z",
     "iopub.status.busy": "2022-11-18T15:16:47.530869Z",
     "iopub.status.idle": "2022-11-18T15:16:51.051459Z",
     "shell.execute_reply": "2022-11-18T15:16:51.050280Z"
    },
    "papermill": {
     "duration": 3.536527,
     "end_time": "2022-11-18T15:16:51.055261",
     "exception": false,
     "start_time": "2022-11-18T15:16:47.518734",
     "status": "completed"
    },
    "tags": []
   },
   "outputs": [
    {
     "name": "stdout",
     "output_type": "stream",
     "text": [
      "1.0\n",
      "0.7411167512690355\n"
     ]
    }
   ],
   "source": [
    "# By default, MLP classifier has a single hidden layer with 100 neurons \n",
    "# and relu activation function\n",
    "clf = MLPClassifier()\n",
    "clf.fit(pca_train, train_labels)\n",
    "print(clf.score(pca_train, train_labels))\n",
    "print(clf.score(pca_test, test_labels))"
   ]
  },
  {
   "cell_type": "code",
   "execution_count": 7,
   "id": "e50a5f52",
   "metadata": {
    "execution": {
     "iopub.execute_input": "2022-11-18T15:16:51.112094Z",
     "iopub.status.busy": "2022-11-18T15:16:51.111245Z",
     "iopub.status.idle": "2022-11-18T15:19:33.389372Z",
     "shell.execute_reply": "2022-11-18T15:19:33.388205Z"
    },
    "papermill": {
     "duration": 162.337315,
     "end_time": "2022-11-18T15:19:33.419909",
     "exception": false,
     "start_time": "2022-11-18T15:16:51.082594",
     "status": "completed"
    },
    "tags": []
   },
   "outputs": [
    {
     "name": "stdout",
     "output_type": "stream",
     "text": [
      "10-fold Accuracy =  0.8547038327526133\n",
      "10-fold Precision =  0.853771138588401\n",
      "10-fold Recall =  0.8533101045296168\n",
      "10-fold f1-score =  0.8489093704681459\n",
      "10-fold roc score =  0.9479608678059444\n"
     ]
    }
   ],
   "source": [
    "acc = cross_val_score(clf, pca_train, train_labels, cv=10).mean()\n",
    "precision = cross_val_score(clf,pca_train, train_labels, cv=10, scoring='precision_weighted').mean()\n",
    "recall = cross_val_score(clf, pca_train, train_labels, cv=10, scoring='recall_weighted').mean()\n",
    "f1 = cross_val_score(clf,pca_train, train_labels, cv=10, scoring='f1_weighted').mean()\n",
    "roc = cross_val_score(clf, pca_train, train_labels, cv=10, scoring='roc_auc_ovr_weighted').mean()\n",
    "\n",
    "\n",
    "print(\"10-fold Accuracy = \", acc)\n",
    "print(\"10-fold Precision = \", precision)\n",
    "print(\"10-fold Recall = \", recall)\n",
    "print(\"10-fold f1-score = \", f1)\n",
    "print(\"10-fold roc score = \", roc)\n"
   ]
  },
  {
   "cell_type": "markdown",
   "id": "a35b1fff",
   "metadata": {
    "papermill": {
     "duration": 0.027329,
     "end_time": "2022-11-18T15:19:33.474457",
     "exception": false,
     "start_time": "2022-11-18T15:19:33.447128",
     "status": "completed"
    },
    "tags": []
   },
   "source": [
    "The results are pretty good or above average, let's explore the hyperparameters tuning and make the multilayer perceptron more efficient"
   ]
  },
  {
   "cell_type": "markdown",
   "id": "a6878ffb",
   "metadata": {
    "papermill": {
     "duration": 0.010508,
     "end_time": "2022-11-18T15:19:33.511137",
     "exception": false,
     "start_time": "2022-11-18T15:19:33.500629",
     "status": "completed"
    },
    "tags": []
   },
   "source": [
    "## Hyperparameters tuning"
   ]
  },
  {
   "cell_type": "markdown",
   "id": "22bf13ca",
   "metadata": {
    "papermill": {
     "duration": 0.010166,
     "end_time": "2022-11-18T15:19:33.532243",
     "exception": false,
     "start_time": "2022-11-18T15:19:33.522077",
     "status": "completed"
    },
    "tags": []
   },
   "source": [
    "### Number of hidden layers change"
   ]
  },
  {
   "cell_type": "code",
   "execution_count": 8,
   "id": "98a8c9ce",
   "metadata": {
    "execution": {
     "iopub.execute_input": "2022-11-18T15:19:33.555417Z",
     "iopub.status.busy": "2022-11-18T15:19:33.554979Z",
     "iopub.status.idle": "2022-11-18T15:19:56.925264Z",
     "shell.execute_reply": "2022-11-18T15:19:56.924180Z"
    },
    "papermill": {
     "duration": 23.386356,
     "end_time": "2022-11-18T15:19:56.929225",
     "exception": false,
     "start_time": "2022-11-18T15:19:33.542869",
     "status": "completed"
    },
    "tags": []
   },
   "outputs": [
    {
     "name": "stdout",
     "output_type": "stream",
     "text": [
      "\n",
      "Set of hidden layers: (20,)\n",
      "Accuracy =  0.7131979695431472\n",
      "Precision =  0.7950801437481289\n",
      "Recall =  0.7131979695431472\n",
      "f1-score =  0.6643275869481309\n",
      "Roc score =  0.8392473364318838\n",
      "\n",
      "Set of hidden layers: (20, 20)\n",
      "Accuracy =  0.7436548223350253\n",
      "Precision =  0.783751192653449\n",
      "Recall =  0.7436548223350253\n",
      "f1-score =  0.6938697914638359\n",
      "Roc score =  0.8385586743257876\n",
      "\n",
      "Set of hidden layers: (20, 20, 20)\n",
      "Accuracy =  0.7030456852791879\n",
      "Precision =  0.7533372542382842\n",
      "Recall =  0.7030456852791879\n",
      "f1-score =  0.6575341863511904\n",
      "Roc score =  0.8301238482968518\n"
     ]
    }
   ],
   "source": [
    "#evaluation buffers\n",
    "\n",
    "Architecture = []\n",
    "Solver = []\n",
    "Learning_rate = []\n",
    "Activation = []\n",
    "Solver = []\n",
    "Accuracy = []\n",
    "Precision = []\n",
    "Recall = []\n",
    "F1 = []\n",
    "ROC = []\n",
    "\n",
    "\n",
    "hidden_layers_sets = [\n",
    "    (20,),\n",
    "    (20,20,),\n",
    "    (20, 20, 20,)\n",
    "]\n",
    "\n",
    "clfs = []\n",
    "\n",
    "for nbHiddenLayers in hidden_layers_sets:\n",
    "    clf = MLPClassifier(hidden_layer_sizes = nbHiddenLayers, max_iter = 1500)\n",
    "    clf.fit(pca_train, train_labels)\n",
    "    y_pred = clf.predict(pca_test)\n",
    "    y_prob = clf.predict_proba(pca_test)\n",
    "    acc = accuracy_score(test_labels, y_pred)\n",
    "    precision = precision_score(test_labels, y_pred, average = \"weighted\")\n",
    "    recall = recall_score(test_labels, y_pred, average = \"weighted\")\n",
    "    f1 =f1_score(test_labels, y_pred, average = \"weighted\")\n",
    "    roc = roc_auc_score(test_labels, y_prob, average = \"weighted\", multi_class = \"ovr\")\n",
    "    clfs.append(clf)\n",
    "    \n",
    "    #acc = cross_val_score(clf, X, y, cv=10).mean()\n",
    "    #precision = cross_val_score(clf,  X, y, cv=10, scoring='precision_weighted').mean()\n",
    "    #recall = cross_val_score(clf,  X, y, cv=10, scoring='recall_weighted').mean()\n",
    "    #f1 = cross_val_score(clf, X, y, cv=10, scoring='f1_weighted').mean()\n",
    "    #roc = cross_val_score(clf,  X, y, cv=10, scoring='roc_auc_ovr_weighted').mean()\n",
    "\n",
    "    print(\"\\nSet of hidden layers: {}\".format(nbHiddenLayers))\n",
    "    #print(\"Score on test set: {}\".format(clf.score(pca_test, test_labels)))\n",
    "    print(\"Accuracy = \", acc)\n",
    "    print(\"Precision = \", precision)\n",
    "    print(\"Recall = \", recall)\n",
    "    print(\"f1-score = \", f1)\n",
    "    print(\"Roc score = \", roc)\n",
    "    \n",
    "    Architecture.append(nbHiddenLayers)\n",
    "    Solver.append(\"adam\")\n",
    "    Learning_rate.append(0.001)\n",
    "    Activation.append(\"relu\")\n",
    "    Accuracy.append(acc)\n",
    "    Precision.append(precision)\n",
    "    Recall.append(recall)\n",
    "    F1.append(f1)\n",
    "    ROC.append(roc)"
   ]
  },
  {
   "cell_type": "markdown",
   "id": "183499ab",
   "metadata": {
    "papermill": {
     "duration": 0.028203,
     "end_time": "2022-11-18T15:19:56.985226",
     "exception": false,
     "start_time": "2022-11-18T15:19:56.957023",
     "status": "completed"
    },
    "tags": []
   },
   "source": [
    "With the most performing set of hidden layers of the previous multilayer perceptron, let's test the different activation functions"
   ]
  },
  {
   "cell_type": "markdown",
   "id": "68301f75",
   "metadata": {
    "papermill": {
     "duration": 0.020894,
     "end_time": "2022-11-18T15:19:57.034656",
     "exception": false,
     "start_time": "2022-11-18T15:19:57.013762",
     "status": "completed"
    },
    "tags": []
   },
   "source": [
    "### Activation function changes"
   ]
  },
  {
   "cell_type": "markdown",
   "id": "81e02efe",
   "metadata": {
    "papermill": {
     "duration": 0.011138,
     "end_time": "2022-11-18T15:19:57.056985",
     "exception": false,
     "start_time": "2022-11-18T15:19:57.045847",
     "status": "completed"
    },
    "tags": []
   },
   "source": [
    "4 types of activation are considered :\n",
    "- identity : id(x) = x\n",
    "- logistic : $\\sigma (x) = \\frac{1}{1 + exp(-x)}$\n",
    "- tanh : $tanh(x) = \\frac{exp(x) - exp(-x)}{exp(x) + exp(-x)}$\n",
    "- relu (by default): $relu(x) = max(0,x)$"
   ]
  },
  {
   "cell_type": "code",
   "execution_count": 9,
   "id": "3657380b",
   "metadata": {
    "execution": {
     "iopub.execute_input": "2022-11-18T15:19:57.080729Z",
     "iopub.status.busy": "2022-11-18T15:19:57.080304Z",
     "iopub.status.idle": "2022-11-18T15:20:31.550511Z",
     "shell.execute_reply": "2022-11-18T15:20:31.548928Z"
    },
    "papermill": {
     "duration": 34.486662,
     "end_time": "2022-11-18T15:20:31.554693",
     "exception": false,
     "start_time": "2022-11-18T15:19:57.068031",
     "status": "completed"
    },
    "tags": []
   },
   "outputs": [],
   "source": [
    "activationFunctions = ['identity', 'logistic', 'tanh', 'relu']\n",
    "\n",
    "clfs = []\n",
    "\n",
    "for function in activationFunctions:\n",
    "    clf = MLPClassifier(hidden_layer_sizes = hidden_layers_sets[-1], activation = function, max_iter = 1500)\n",
    "    clf.fit(pca_train, train_labels)\n",
    "    clfs.append(clf)\n",
    "    \n",
    "    y_pred = clf.predict(pca_test)\n",
    "    y_prob = clf.predict_proba(pca_test)\n",
    "    acc = accuracy_score(test_labels, y_pred)\n",
    "    precision = precision_score(test_labels, y_pred, average = \"weighted\")\n",
    "    recall = recall_score(test_labels, y_pred, average = \"weighted\")\n",
    "    f1 =f1_score(test_labels, y_pred, average = \"weighted\")\n",
    "    roc = roc_auc_score(test_labels, y_prob, average = \"weighted\", multi_class = \"ovr\")\n",
    "    \n",
    "    if function == 'relu':\n",
    "        continue\n",
    "    \n",
    "    Architecture.append(hidden_layers_sets[-1])\n",
    "    Solver.append(\"adam\")\n",
    "    Learning_rate.append(0.001)\n",
    "    Activation.append(function)\n",
    "    Accuracy.append(acc)\n",
    "    Precision.append(precision)\n",
    "    Recall.append(recall)\n",
    "    F1.append(f1)\n",
    "    ROC.append(roc)"
   ]
  },
  {
   "cell_type": "code",
   "execution_count": 10,
   "id": "c56a1e94",
   "metadata": {
    "execution": {
     "iopub.execute_input": "2022-11-18T15:20:31.613769Z",
     "iopub.status.busy": "2022-11-18T15:20:31.613096Z",
     "iopub.status.idle": "2022-11-18T15:20:32.180313Z",
     "shell.execute_reply": "2022-11-18T15:20:32.179529Z"
    },
    "papermill": {
     "duration": 0.599598,
     "end_time": "2022-11-18T15:20:32.182560",
     "exception": false,
     "start_time": "2022-11-18T15:20:31.582962",
     "status": "completed"
    },
    "tags": []
   },
   "outputs": [
    {
     "data": {
      "image/png": "[encoded data removed]",
      "text/plain": [
       "<Figure size 1800x360 with 1 Axes>"
      ]
     },
     "metadata": {
      "needs_background": "light"
     },
     "output_type": "display_data"
    },
    {
     "data": {
      "image/png": "[encoded data removed]",
      "text/plain": [
       "<Figure size 1800x360 with 1 Axes>"
      ]
     },
     "metadata": {
      "needs_background": "light"
     },
     "output_type": "display_data"
    }
   ],
   "source": [
    "train_scores = [clf.score(pca_train, train_labels) for clf in clfs]\n",
    "test_scores = [clf.score(pca_test, test_labels) for clf in clfs]\n",
    "\n",
    "number = [i+1 for i in range(len(activationFunctions))]\n",
    "\n",
    "fig, ax = plt.subplots(figsize=(25, 5))\n",
    "ax.set_xlabel(\"Activation function\")\n",
    "ax.set_ylabel(\"Accuracy\")\n",
    "ax.set_title(\"Accuracy vs activation function for training sets\")\n",
    "ax.bar(number, train_scores, tick_label = activationFunctions, width = 0.8, color = ['blue']) \n",
    "ax.legend()\n",
    "ax.grid()\n",
    "plt.show()\n",
    "\n",
    "fig, ax = plt.subplots(figsize=(25, 5))\n",
    "ax.set_xlabel(\"Activation function\")\n",
    "ax.set_ylabel(\"Accuracy\")\n",
    "ax.set_title(\"Accuracy vs activation function for testing sets\")\n",
    "ax.bar(number, test_scores, tick_label = activationFunctions, width = 0.8, color = ['red'])\n",
    "ax.legend()\n",
    "ax.grid()\n",
    "plt.show()"
   ]
  },
  {
   "cell_type": "markdown",
   "id": "3b0f9f59",
   "metadata": {
    "papermill": {
     "duration": 0.011399,
     "end_time": "2022-11-18T15:20:32.205701",
     "exception": false,
     "start_time": "2022-11-18T15:20:32.194302",
     "status": "completed"
    },
    "tags": []
   },
   "source": [
    "### Solver changes"
   ]
  },
  {
   "cell_type": "markdown",
   "id": "82d3c65c",
   "metadata": {
    "papermill": {
     "duration": 0.011358,
     "end_time": "2022-11-18T15:20:32.228590",
     "exception": false,
     "start_time": "2022-11-18T15:20:32.217232",
     "status": "completed"
    },
    "tags": []
   },
   "source": [
    "Solvers considered :\n",
    "- lbfgs : quasi-newton family optimization method\n",
    "- sgd : updates weights with one sample at a time in gradient descent\n",
    "- adam (by default): Adaptive moment (order 1 and 2) gradient descent $$Weights := Weights - \\gamma \\ \\frac{V_{w}^{corr} }{\\sqrt{S_{w}^{corr} + \\epsilon}}\\: \\ , \\ \\: Bias := Bias - \\gamma \\ \\frac{V_{b}^{corr}}{\\sqrt{S_{b}^{corr} + \\epsilon}}$$\n",
    "(instead of simply: $ Weights := Weights - \\gamma \\ dW \\ \\ , \\ \\ Bias := Bias - \\gamma \\ dB$)"
   ]
  },
  {
   "cell_type": "code",
   "execution_count": 11,
   "id": "2e4f60c3",
   "metadata": {
    "execution": {
     "iopub.execute_input": "2022-11-18T15:20:32.254087Z",
     "iopub.status.busy": "2022-11-18T15:20:32.253321Z",
     "iopub.status.idle": "2022-11-18T15:22:48.304914Z",
     "shell.execute_reply": "2022-11-18T15:22:48.303091Z"
    },
    "papermill": {
     "duration": 136.069126,
     "end_time": "2022-11-18T15:22:48.309292",
     "exception": false,
     "start_time": "2022-11-18T15:20:32.240166",
     "status": "completed"
    },
    "tags": []
   },
   "outputs": [],
   "source": [
    "solvers = ['lbfgs', 'sgd', 'adam']\n",
    "\n",
    "train_scores = []\n",
    "test_scores = []\n",
    "\n",
    "test_prec = []\n",
    "test_rec= []\n",
    "test_f1 = []\n",
    "test_roc = []\n",
    "\n",
    "for solver in solvers:\n",
    "    sum_train = 0\n",
    "    sum_test = 0\n",
    "    \n",
    "    precision = 0\n",
    "    recall = 0\n",
    "    f1 = 0\n",
    "    roc = 0\n",
    "    \n",
    "    # avg accuracy on 5 trials\n",
    "    for i in range(5):\n",
    "        #print(i)\n",
    "        clf = MLPClassifier(hidden_layer_sizes = hidden_layers_sets[-1], activation = 'relu', solver = solver, max_iter = 1500)\n",
    "        clf.fit(pca_train, train_labels)\n",
    "        sum_train += clf.score(pca_train, train_labels)\n",
    "        sum_test += clf.score(pca_test, test_labels)\n",
    "        \n",
    "        y_pred = clf.predict(pca_test)\n",
    "        y_prob = clf.predict_proba(pca_test)\n",
    "        precision += precision_score(test_labels, y_pred, average = \"weighted\")\n",
    "        recall += recall_score(test_labels, y_pred, average = \"weighted\")\n",
    "        f1 +=f1_score(test_labels, y_pred, average = \"weighted\")\n",
    "        roc += roc_auc_score(test_labels, y_prob, average = \"weighted\", multi_class = \"ovr\")\n",
    "        \n",
    "    train_scores.append(sum_train/(i+1))\n",
    "    test_scores.append(sum_test/(i+1))\n",
    "    \n",
    "    if solver == 'adam':\n",
    "        continue\n",
    "    \n",
    "    Architecture.append(hidden_layers_sets[-1])\n",
    "    Solver.append(solver)\n",
    "    Learning_rate.append(0.001)\n",
    "    Activation.append(\"relu\")\n",
    "    Accuracy.append(sum_test/(i+1))\n",
    "    Precision.append(precision/(i+1))\n",
    "    Recall.append(precision/(i+1))\n",
    "    F1.append(f1/(i+1))\n",
    "    ROC.append(roc/(i+1))"
   ]
  },
  {
   "cell_type": "code",
   "execution_count": 12,
   "id": "1a480af5",
   "metadata": {
    "execution": {
     "iopub.execute_input": "2022-11-18T15:22:48.376160Z",
     "iopub.status.busy": "2022-11-18T15:22:48.375464Z",
     "iopub.status.idle": "2022-11-18T15:22:48.823783Z",
     "shell.execute_reply": "2022-11-18T15:22:48.822438Z"
    },
    "papermill": {
     "duration": 0.484624,
     "end_time": "2022-11-18T15:22:48.826372",
     "exception": false,
     "start_time": "2022-11-18T15:22:48.341748",
     "status": "completed"
    },
    "tags": []
   },
   "outputs": [
    {
     "data": {
      "image/png": "[encoded data removed]",
      "text/plain": [
       "<Figure size 1800x360 with 1 Axes>"
      ]
     },
     "metadata": {
      "needs_background": "light"
     },
     "output_type": "display_data"
    },
    {
     "data": {
      "image/png": "[encoded data removed]",
      "text/plain": [
       "<Figure size 1800x360 with 1 Axes>"
      ]
     },
     "metadata": {
      "needs_background": "light"
     },
     "output_type": "display_data"
    }
   ],
   "source": [
    "number = [i+1 for i in range(len(solvers))]\n",
    "\n",
    "fig, ax = plt.subplots(figsize=(25, 5))\n",
    "ax.set_xlabel(\"Solver\")\n",
    "ax.set_ylabel(\"Accuracy\")\n",
    "ax.set_title(\"Accuracy vs solver for training sets\")\n",
    "ax.bar(number, train_scores, tick_label = solvers, width = 0.8, color = ['blue']) \n",
    "ax.legend()\n",
    "ax.grid()\n",
    "ax.set_ylim(0.995, 1.0)\n",
    "plt.show()\n",
    "\n",
    "fig, ax = plt.subplots(figsize=(25, 5))\n",
    "ax.set_xlabel(\"Solver\")\n",
    "ax.set_ylabel(\"Accuracy\")\n",
    "ax.set_title(\"Accuracy vs solver for testing sets\")\n",
    "ax.bar(number, test_scores, tick_label = solvers, width = 0.8, color = ['red'])\n",
    "ax.legend()\n",
    "ax.grid()\n",
    "ax.set_ylim(0.65, 0.76)\n",
    "plt.show()"
   ]
  },
  {
   "cell_type": "markdown",
   "id": "d177de05",
   "metadata": {
    "papermill": {
     "duration": 0.012607,
     "end_time": "2022-11-18T15:22:48.851773",
     "exception": false,
     "start_time": "2022-11-18T15:22:48.839166",
     "status": "completed"
    },
    "tags": []
   },
   "source": [
    "Adam and lbfgs solvers are the most efficient ones"
   ]
  },
  {
   "cell_type": "markdown",
   "id": "166b066f",
   "metadata": {
    "papermill": {
     "duration": 0.012372,
     "end_time": "2022-11-18T15:22:48.876779",
     "exception": false,
     "start_time": "2022-11-18T15:22:48.864407",
     "status": "completed"
    },
    "tags": []
   },
   "source": [
    "### Learning rate variations"
   ]
  },
  {
   "cell_type": "markdown",
   "id": "87b050bc",
   "metadata": {
    "papermill": {
     "duration": 0.012015,
     "end_time": "2022-11-18T15:22:48.901248",
     "exception": false,
     "start_time": "2022-11-18T15:22:48.889233",
     "status": "completed"
    },
    "tags": []
   },
   "source": [
    "- constant learning rate never changes\n",
    "- invscaling (by default): $$\\alpha := \\frac{\\alpha}{\\sqrt{t}} $$\n",
    "- adaptive : learning rate doesn't change if the network loss is decreasing. If two epochs don't succeed at decreasing the loss, then the learning rate is divided by 5"
   ]
  },
  {
   "cell_type": "code",
   "execution_count": 13,
   "id": "d39bb3f6",
   "metadata": {
    "execution": {
     "iopub.execute_input": "2022-11-18T15:22:48.927803Z",
     "iopub.status.busy": "2022-11-18T15:22:48.927125Z",
     "iopub.status.idle": "2022-11-18T15:37:51.156223Z",
     "shell.execute_reply": "2022-11-18T15:37:51.154576Z"
    },
    "papermill": {
     "duration": 902.246894,
     "end_time": "2022-11-18T15:37:51.160627",
     "exception": false,
     "start_time": "2022-11-18T15:22:48.913733",
     "status": "completed"
    },
    "tags": []
   },
   "outputs": [
    {
     "name": "stderr",
     "output_type": "stream",
     "text": [
      "Loading...: 100%|██████████| 100/100 [04:54<00:00,  2.94s/it]\n",
      "Loading...: 100%|██████████| 100/100 [05:04<00:00,  3.04s/it]\n",
      "Loading...: 100%|██████████| 100/100 [05:04<00:00,  3.04s/it]\n"
     ]
    }
   ],
   "source": [
    "learning_rate = ['constant', 'invscaling', 'adaptive']\n",
    "learning_rate_init = np.linspace(0.01, 0.001, 100)\n",
    "# power_t = np.linspace(0.5, 2, 4)\n",
    "\n",
    "clfs = []\n",
    "\n",
    "for mode in learning_rate:\n",
    "    \n",
    "    clfs.append([])\n",
    "    \n",
    "#     for alpha in learning_rate_init:\n",
    "    for i in tqdm (range (len(learning_rate_init)), desc=\"Loading...\"): \n",
    "        clf = MLPClassifier(hidden_layer_sizes = hidden_layers_sets[-1], activation = 'relu', solver = 'adam', max_iter = 1500, learning_rate = mode, learning_rate_init = learning_rate_init[i], power_t = 0.2)\n",
    "        clf.fit(pca_train, train_labels)\n",
    "        clfs[-1].append(clf)"
   ]
  },
  {
   "cell_type": "code",
   "execution_count": 14,
   "id": "5f1ac7b3",
   "metadata": {
    "execution": {
     "iopub.execute_input": "2022-11-18T15:37:51.282738Z",
     "iopub.status.busy": "2022-11-18T15:37:51.282384Z",
     "iopub.status.idle": "2022-11-18T15:37:52.524022Z",
     "shell.execute_reply": "2022-11-18T15:37:52.522849Z"
    },
    "papermill": {
     "duration": 1.289339,
     "end_time": "2022-11-18T15:37:52.526993",
     "exception": false,
     "start_time": "2022-11-18T15:37:51.237654",
     "status": "completed"
    },
    "tags": []
   },
   "outputs": [
    {
     "data": {
      "image/png": "[encoded data removed]",
      "text/plain": [
       "<Figure size 2160x360 with 1 Axes>"
      ]
     },
     "metadata": {
      "needs_background": "light"
     },
     "output_type": "display_data"
    },
    {
     "data": {
      "image/png": "[encoded data removed]",
      "text/plain": [
       "<Figure size 2160x360 with 1 Axes>"
      ]
     },
     "metadata": {
      "needs_background": "light"
     },
     "output_type": "display_data"
    },
    {
     "data": {
      "image/png": "[encoded data removed]",
      "text/plain": [
       "<Figure size 2160x360 with 1 Axes>"
      ]
     },
     "metadata": {
      "needs_background": "light"
     },
     "output_type": "display_data"
    }
   ],
   "source": [
    "test_scores = []\n",
    "\n",
    "for i in range(len(clfs)):\n",
    "    \n",
    "    test_scores.append([])\n",
    "    test_scores[-1] = [clf.score(pca_test, test_labels) for clf in clfs[i]]\n",
    "\n",
    "    fig, ax = plt.subplots(figsize=(30, 5))\n",
    "    ax.set_xlabel(\"Learning rate\")\n",
    "    ax.set_ylabel(\"Accuracy\")\n",
    "    ax.set_title(\"Accuracy vs learning rate for testing sets, mode = {}\".format(learning_rate[i]))\n",
    "    ax.plot(learning_rate_init, test_scores[-1], marker=\"o\", label=\"test\", drawstyle=\"steps-post\")\n",
    "    ax.legend()\n",
    "    ax.grid()\n",
    "    plt.show()"
   ]
  },
  {
   "cell_type": "markdown",
   "id": "92d5c010",
   "metadata": {
    "papermill": {
     "duration": 0.031389,
     "end_time": "2022-11-18T15:37:52.590996",
     "exception": false,
     "start_time": "2022-11-18T15:37:52.559607",
     "status": "completed"
    },
    "tags": []
   },
   "source": [
    "Better learning rates are at $10^{-3}$, not so much amelioration with different learning rate adapters."
   ]
  },
  {
   "cell_type": "markdown",
   "id": "820fca2e",
   "metadata": {
    "papermill": {
     "duration": 0.031144,
     "end_time": "2022-11-18T15:37:52.653299",
     "exception": false,
     "start_time": "2022-11-18T15:37:52.622155",
     "status": "completed"
    },
    "tags": []
   },
   "source": [
    "## Table of results "
   ]
  },
  {
   "cell_type": "code",
   "execution_count": 15,
   "id": "626ebdb0",
   "metadata": {
    "execution": {
     "iopub.execute_input": "2022-11-18T15:37:52.716998Z",
     "iopub.status.busy": "2022-11-18T15:37:52.716607Z",
     "iopub.status.idle": "2022-11-18T15:37:52.739053Z",
     "shell.execute_reply": "2022-11-18T15:37:52.737681Z"
    },
    "papermill": {
     "duration": 0.057394,
     "end_time": "2022-11-18T15:37:52.741594",
     "exception": false,
     "start_time": "2022-11-18T15:37:52.684200",
     "status": "completed"
    },
    "tags": []
   },
   "outputs": [
    {
     "name": "stdout",
     "output_type": "stream",
     "text": [
      "   Architecture Solver  Learning rate Activation  Accuracy  Weighted Precision  Weighted Recall  Weighted F1 Score  Weighted AUC\n",
      "0         (20,)   adam          0.001       relu  0.713198            0.795080         0.713198           0.664328      0.839247\n",
      "1      (20, 20)   adam          0.001       relu  0.743655            0.783751         0.743655           0.693870      0.838559\n",
      "2  (20, 20, 20)   adam          0.001       relu  0.703046            0.753337         0.703046           0.657534      0.830124\n",
      "3  (20, 20, 20)   adam          0.001   identity  0.459391            0.481681         0.459391           0.443033      0.694782\n",
      "4  (20, 20, 20)   adam          0.001   logistic  0.682741            0.736205         0.682741           0.641124      0.822479\n",
      "5  (20, 20, 20)   adam          0.001       tanh  0.637056            0.683275         0.637056           0.596745      0.800017\n",
      "6  (20, 20, 20)  lbfgs          0.001       relu  0.723350            0.780490         0.780490           0.677977      0.825762\n",
      "7  (20, 20, 20)    sgd          0.001       relu  0.726904            0.764022         0.764022           0.680538      0.826177\n"
     ]
    }
   ],
   "source": [
    "data = {'Architecture':  Architecture,\n",
    "        'Solver': Solver,\n",
    "        \"Learning rate\": Learning_rate,\n",
    "        \"Activation\": Activation,\n",
    "        'Accuracy' : Accuracy,\n",
    "        'Weighted Precision': Precision,\n",
    "        'Weighted Recall' : Recall,\n",
    "        'Weighted F1 Score' : F1,\n",
    "        'Weighted AUC' : ROC\n",
    "        }\n",
    "\n",
    "resume = pd.DataFrame(data)\n",
    "pd.set_option('expand_frame_repr', False)\n",
    "\n",
    "print(resume)"
   ]
  },
  {
   "cell_type": "markdown",
   "id": "47c51cf6",
   "metadata": {
    "papermill": {
     "duration": 0.030776,
     "end_time": "2022-11-18T15:37:52.803820",
     "exception": false,
     "start_time": "2022-11-18T15:37:52.773044",
     "status": "completed"
    },
    "tags": []
   },
   "source": [
    "# Multilayer Perceptron optimization"
   ]
  },
  {
   "cell_type": "code",
   "execution_count": 16,
   "id": "adb1f969",
   "metadata": {
    "execution": {
     "iopub.execute_input": "2022-11-18T15:37:52.882835Z",
     "iopub.status.busy": "2022-11-18T15:37:52.881817Z",
     "iopub.status.idle": "2022-11-18T15:41:21.903048Z",
     "shell.execute_reply": "2022-11-18T15:41:21.901695Z"
    },
    "papermill": {
     "duration": 209.128438,
     "end_time": "2022-11-18T15:41:21.969510",
     "exception": false,
     "start_time": "2022-11-18T15:37:52.841072",
     "status": "completed"
    },
    "tags": []
   },
   "outputs": [
    {
     "data": {
      "text/plain": [
       "GridSearchCV(cv=5, estimator=MLPClassifier(max_iter=1500), n_jobs=-1,\n",
       "             param_grid={'activation': ['relu'],\n",
       "                         'alpha': array([0.001, 0.012, 0.023, 0.034, 0.045, 0.056, 0.067, 0.078, 0.089,\n",
       "       0.1  ]),\n",
       "                         'hidden_layer_sizes': [(40,), (40, 35), (30, 20, 15),\n",
       "                                                (20, 25, 15)],\n",
       "                         'learning_rate': ['adaptive'], 'solver': ['adam']})"
      ]
     },
     "execution_count": 16,
     "metadata": {},
     "output_type": "execute_result"
    }
   ],
   "source": [
    "mlp_gs = MLPClassifier(max_iter=1500)\n",
    "parameter_space = {\n",
    "    'hidden_layer_sizes': [(40,), (40, 35,), (30, 20, 15), (20, 25, 15,)],\n",
    "    'activation': ['relu'],\n",
    "    'solver': ['adam'],\n",
    "    'alpha': np.linspace(0.001, 0.1, 10),\n",
    "    'learning_rate': ['adaptive'],\n",
    "}\n",
    "\n",
    "from sklearn.model_selection import GridSearchCV\n",
    "clf = GridSearchCV(mlp_gs, parameter_space, n_jobs=-1, cv=5)\n",
    "clf.fit(pca_train, train_labels)"
   ]
  },
  {
   "cell_type": "code",
   "execution_count": 17,
   "id": "c5528716",
   "metadata": {
    "execution": {
     "iopub.execute_input": "2022-11-18T15:41:22.051815Z",
     "iopub.status.busy": "2022-11-18T15:41:22.051424Z",
     "iopub.status.idle": "2022-11-18T15:41:22.057345Z",
     "shell.execute_reply": "2022-11-18T15:41:22.056288Z"
    },
    "papermill": {
     "duration": 0.043035,
     "end_time": "2022-11-18T15:41:22.060142",
     "exception": false,
     "start_time": "2022-11-18T15:41:22.017107",
     "status": "completed"
    },
    "tags": []
   },
   "outputs": [
    {
     "name": "stdout",
     "output_type": "stream",
     "text": [
      "Best parameters found:\n",
      " {'activation': 'relu', 'alpha': 0.034, 'hidden_layer_sizes': (40, 35), 'learning_rate': 'adaptive', 'solver': 'adam'}\n"
     ]
    }
   ],
   "source": [
    "print('Best parameters found:\\n', clf.best_params_)"
   ]
  },
  {
   "cell_type": "markdown",
   "id": "be623bce",
   "metadata": {
    "papermill": {
     "duration": 0.032097,
     "end_time": "2022-11-18T15:41:22.124079",
     "exception": false,
     "start_time": "2022-11-18T15:41:22.091982",
     "status": "completed"
    },
    "tags": []
   },
   "source": [
    "# Multilayer Perceptron on 3 data sets"
   ]
  },
  {
   "cell_type": "markdown",
   "id": "701999ed",
   "metadata": {
    "papermill": {
     "duration": 0.031139,
     "end_time": "2022-11-18T15:41:22.186802",
     "exception": false,
     "start_time": "2022-11-18T15:41:22.155663",
     "status": "completed"
    },
    "tags": []
   },
   "source": [
    "## Set 1"
   ]
  },
  {
   "cell_type": "code",
   "execution_count": 18,
   "id": "7a1f31d7",
   "metadata": {
    "execution": {
     "iopub.execute_input": "2022-11-18T15:41:22.251785Z",
     "iopub.status.busy": "2022-11-18T15:41:22.251334Z",
     "iopub.status.idle": "2022-11-18T15:41:30.738767Z",
     "shell.execute_reply": "2022-11-18T15:41:30.737105Z"
    },
    "papermill": {
     "duration": 8.524889,
     "end_time": "2022-11-18T15:41:30.743229",
     "exception": false,
     "start_time": "2022-11-18T15:41:22.218340",
     "status": "completed"
    },
    "tags": []
   },
   "outputs": [],
   "source": [
    "ML = MLPClassifier(hidden_layer_sizes = hidden_layers_sets[-1], max_iter = 1500)\n",
    "clf1 = ML.fit(pca_train, train_labels)"
   ]
  },
  {
   "cell_type": "code",
   "execution_count": 19,
   "id": "5fc917da",
   "metadata": {
    "execution": {
     "iopub.execute_input": "2022-11-18T15:41:30.884207Z",
     "iopub.status.busy": "2022-11-18T15:41:30.883856Z",
     "iopub.status.idle": "2022-11-18T15:41:30.903650Z",
     "shell.execute_reply": "2022-11-18T15:41:30.902152Z"
    },
    "papermill": {
     "duration": 0.07784,
     "end_time": "2022-11-18T15:41:30.909750",
     "exception": false,
     "start_time": "2022-11-18T15:41:30.831910",
     "status": "completed"
    },
    "tags": []
   },
   "outputs": [
    {
     "name": "stdout",
     "output_type": "stream",
     "text": [
      "Training Accuracy...1.0\n",
      "Test Accuracy...0.700507614213198\n"
     ]
    }
   ],
   "source": [
    "train_scores = clf1.score(pca_train, train_labels)\n",
    "test_scores = clf1.score(pca_test, test_labels) \n",
    "\n",
    "print(f\"Training Accuracy...{train_scores}\")\n",
    "print(f\"Test Accuracy...{test_scores}\")"
   ]
  },
  {
   "cell_type": "markdown",
   "id": "fcbea3aa",
   "metadata": {
    "papermill": {
     "duration": 0.048294,
     "end_time": "2022-11-18T15:41:31.041254",
     "exception": false,
     "start_time": "2022-11-18T15:41:30.992960",
     "status": "completed"
    },
    "tags": []
   },
   "source": [
    "With the optimized MLP"
   ]
  },
  {
   "cell_type": "code",
   "execution_count": 20,
   "id": "5a5e34d7",
   "metadata": {
    "execution": {
     "iopub.execute_input": "2022-11-18T15:41:31.106009Z",
     "iopub.status.busy": "2022-11-18T15:41:31.105627Z",
     "iopub.status.idle": "2022-11-18T15:41:31.125979Z",
     "shell.execute_reply": "2022-11-18T15:41:31.123817Z"
    },
    "papermill": {
     "duration": 0.058599,
     "end_time": "2022-11-18T15:41:31.131309",
     "exception": false,
     "start_time": "2022-11-18T15:41:31.072710",
     "status": "completed"
    },
    "tags": []
   },
   "outputs": [
    {
     "name": "stdout",
     "output_type": "stream",
     "text": [
      "\n",
      " Grid Search CV\n",
      "Training Accuracy...1.0\n",
      "Test Accuracy...0.7106598984771574\n"
     ]
    }
   ],
   "source": [
    "train_scores = clf.score(pca_train, train_labels)\n",
    "test_scores = clf.score(pca_test, test_labels) \n",
    "\n",
    "print(\"\\n Grid Search CV\")\n",
    "print(f\"Training Accuracy...{train_scores}\")\n",
    "print(f\"Test Accuracy...{test_scores}\")"
   ]
  },
  {
   "cell_type": "markdown",
   "id": "10c7c498",
   "metadata": {
    "papermill": {
     "duration": 0.04836,
     "end_time": "2022-11-18T15:41:31.262670",
     "exception": false,
     "start_time": "2022-11-18T15:41:31.214310",
     "status": "completed"
    },
    "tags": []
   },
   "source": [
    "## Set 2"
   ]
  },
  {
   "cell_type": "code",
   "execution_count": 21,
   "id": "d78e6457",
   "metadata": {
    "execution": {
     "iopub.execute_input": "2022-11-18T15:41:31.327590Z",
     "iopub.status.busy": "2022-11-18T15:41:31.327189Z",
     "iopub.status.idle": "2022-11-18T15:41:31.336454Z",
     "shell.execute_reply": "2022-11-18T15:41:31.335567Z"
    },
    "papermill": {
     "duration": 0.044206,
     "end_time": "2022-11-18T15:41:31.338644",
     "exception": false,
     "start_time": "2022-11-18T15:41:31.294438",
     "status": "completed"
    },
    "tags": []
   },
   "outputs": [],
   "source": [
    "from sklearn.model_selection import train_test_split\n",
    "\n",
    "x_train_30, x_test_30, y_train_30, y_test_30 = train_test_split(pca_train, train_labels, test_size=0.30, random_state=42)\n",
    "\n",
    "new_test_data = np.hstack((x_test_30, y_test_30[:,None]))\n",
    "\n",
    "all_test_data = np.vstack((new_test_data, data_test))\n",
    "x_test_30 = all_test_data[:,:-1]\n",
    "y_test_30 = all_test_data[:,-1]"
   ]
  },
  {
   "cell_type": "code",
   "execution_count": 22,
   "id": "e5216870",
   "metadata": {
    "execution": {
     "iopub.execute_input": "2022-11-18T15:41:31.403872Z",
     "iopub.status.busy": "2022-11-18T15:41:31.403432Z",
     "iopub.status.idle": "2022-11-18T15:41:38.316672Z",
     "shell.execute_reply": "2022-11-18T15:41:38.315109Z"
    },
    "papermill": {
     "duration": 6.951076,
     "end_time": "2022-11-18T15:41:38.321558",
     "exception": false,
     "start_time": "2022-11-18T15:41:31.370482",
     "status": "completed"
    },
    "tags": []
   },
   "outputs": [],
   "source": [
    "clf2 = ML.fit(x_train_30, y_train_30)"
   ]
  },
  {
   "cell_type": "code",
   "execution_count": 23,
   "id": "5eb889cc",
   "metadata": {
    "execution": {
     "iopub.execute_input": "2022-11-18T15:41:38.464767Z",
     "iopub.status.busy": "2022-11-18T15:41:38.464376Z",
     "iopub.status.idle": "2022-11-18T15:41:38.484716Z",
     "shell.execute_reply": "2022-11-18T15:41:38.483289Z"
    },
    "papermill": {
     "duration": 0.072411,
     "end_time": "2022-11-18T15:41:38.489097",
     "exception": false,
     "start_time": "2022-11-18T15:41:38.416686",
     "status": "completed"
    },
    "tags": []
   },
   "outputs": [
    {
     "name": "stdout",
     "output_type": "stream",
     "text": [
      "Training Accuracy...0.9995022399203584\n",
      "Test Accuracy...0.7330677290836654\n"
     ]
    }
   ],
   "source": [
    "train_scores = clf2.score(x_train_30, y_train_30)\n",
    "test_scores = clf2.score(x_test_30, y_test_30) \n",
    "\n",
    "print(f\"Training Accuracy...{train_scores}\")\n",
    "print(f\"Test Accuracy...{test_scores}\")"
   ]
  },
  {
   "cell_type": "markdown",
   "id": "8e5ea90e",
   "metadata": {
    "papermill": {
     "duration": 0.044988,
     "end_time": "2022-11-18T15:41:38.627929",
     "exception": false,
     "start_time": "2022-11-18T15:41:38.582941",
     "status": "completed"
    },
    "tags": []
   },
   "source": [
    "With the optimized MLP"
   ]
  },
  {
   "cell_type": "code",
   "execution_count": 24,
   "id": "640796e1",
   "metadata": {
    "execution": {
     "iopub.execute_input": "2022-11-18T15:41:38.698494Z",
     "iopub.status.busy": "2022-11-18T15:41:38.698066Z",
     "iopub.status.idle": "2022-11-18T15:41:38.719615Z",
     "shell.execute_reply": "2022-11-18T15:41:38.717720Z"
    },
    "papermill": {
     "duration": 0.061673,
     "end_time": "2022-11-18T15:41:38.723663",
     "exception": false,
     "start_time": "2022-11-18T15:41:38.661990",
     "status": "completed"
    },
    "tags": []
   },
   "outputs": [
    {
     "name": "stdout",
     "output_type": "stream",
     "text": [
      "\n",
      " Grid Search CV\n",
      "Training Accuracy...1.0\n",
      "Test Accuracy...0.9091633466135458\n"
     ]
    }
   ],
   "source": [
    "train_scores = clf.score(x_train_30, y_train_30)\n",
    "test_scores = clf.score(x_test_30, y_test_30) \n",
    "\n",
    "print(\"\\n Grid Search CV\")\n",
    "print(f\"Training Accuracy...{train_scores}\")\n",
    "print(f\"Test Accuracy...{test_scores}\")"
   ]
  },
  {
   "cell_type": "markdown",
   "id": "52aa3236",
   "metadata": {
    "papermill": {
     "duration": 0.04568,
     "end_time": "2022-11-18T15:41:38.857206",
     "exception": false,
     "start_time": "2022-11-18T15:41:38.811526",
     "status": "completed"
    },
    "tags": []
   },
   "source": [
    "## Set 3"
   ]
  },
  {
   "cell_type": "code",
   "execution_count": 25,
   "id": "0cdf0914",
   "metadata": {
    "execution": {
     "iopub.execute_input": "2022-11-18T15:41:38.924057Z",
     "iopub.status.busy": "2022-11-18T15:41:38.923176Z",
     "iopub.status.idle": "2022-11-18T15:41:38.932904Z",
     "shell.execute_reply": "2022-11-18T15:41:38.931836Z"
    },
    "papermill": {
     "duration": 0.046185,
     "end_time": "2022-11-18T15:41:38.935288",
     "exception": false,
     "start_time": "2022-11-18T15:41:38.889103",
     "status": "completed"
    },
    "tags": []
   },
   "outputs": [],
   "source": [
    "from sklearn.model_selection import train_test_split\n",
    "\n",
    "x_train_60, x_test_60, y_train_60, y_test_60 = train_test_split(pca_train, train_labels, test_size=0.60, random_state=42)\n",
    "\n",
    "new_test_data = np.hstack((x_test_60, y_test_60[:,None]))\n",
    "\n",
    "all_test_data = np.vstack((new_test_data, data_test))\n",
    "x_test_60 = all_test_data[:,:-1]\n",
    "y_test_60 = all_test_data[:,-1]"
   ]
  },
  {
   "cell_type": "code",
   "execution_count": 26,
   "id": "939c61c5",
   "metadata": {
    "execution": {
     "iopub.execute_input": "2022-11-18T15:41:39.000913Z",
     "iopub.status.busy": "2022-11-18T15:41:39.000504Z",
     "iopub.status.idle": "2022-11-18T15:41:43.045520Z",
     "shell.execute_reply": "2022-11-18T15:41:43.043815Z"
    },
    "papermill": {
     "duration": 4.082411,
     "end_time": "2022-11-18T15:41:43.049908",
     "exception": false,
     "start_time": "2022-11-18T15:41:38.967497",
     "status": "completed"
    },
    "tags": []
   },
   "outputs": [],
   "source": [
    "clf3 = ML.fit(x_train_60, y_train_60)"
   ]
  },
  {
   "cell_type": "code",
   "execution_count": 27,
   "id": "076984b2",
   "metadata": {
    "execution": {
     "iopub.execute_input": "2022-11-18T15:41:43.185530Z",
     "iopub.status.busy": "2022-11-18T15:41:43.185116Z",
     "iopub.status.idle": "2022-11-18T15:41:43.204597Z",
     "shell.execute_reply": "2022-11-18T15:41:43.202916Z"
    },
    "papermill": {
     "duration": 0.075533,
     "end_time": "2022-11-18T15:41:43.208466",
     "exception": false,
     "start_time": "2022-11-18T15:41:43.132933",
     "status": "completed"
    },
    "tags": []
   },
   "outputs": [
    {
     "name": "stdout",
     "output_type": "stream",
     "text": [
      "Training Accuracy...1.0\n",
      "Test Accuracy...0.6748582230623819\n"
     ]
    }
   ],
   "source": [
    "train_scores = clf3.score(x_train_60, y_train_60)\n",
    "test_scores = clf3.score(x_test_60, y_test_60)  \n",
    "\n",
    "print(f\"Training Accuracy...{train_scores}\")\n",
    "print(f\"Test Accuracy...{test_scores}\")"
   ]
  },
  {
   "cell_type": "markdown",
   "id": "64b91704",
   "metadata": {
    "papermill": {
     "duration": 0.048823,
     "end_time": "2022-11-18T15:41:43.340701",
     "exception": false,
     "start_time": "2022-11-18T15:41:43.291878",
     "status": "completed"
    },
    "tags": []
   },
   "source": [
    "With the optimized MLP"
   ]
  },
  {
   "cell_type": "code",
   "execution_count": 28,
   "id": "7f0ae5c3",
   "metadata": {
    "execution": {
     "iopub.execute_input": "2022-11-18T15:41:43.405769Z",
     "iopub.status.busy": "2022-11-18T15:41:43.405311Z",
     "iopub.status.idle": "2022-11-18T15:41:43.429250Z",
     "shell.execute_reply": "2022-11-18T15:41:43.426412Z"
    },
    "papermill": {
     "duration": 0.061246,
     "end_time": "2022-11-18T15:41:43.433790",
     "exception": false,
     "start_time": "2022-11-18T15:41:43.372544",
     "status": "completed"
    },
    "tags": []
   },
   "outputs": [
    {
     "name": "stdout",
     "output_type": "stream",
     "text": [
      "\n",
      " Grid Search CV\n",
      "Training Accuracy...1.0\n",
      "Test Accuracy...0.946124763705104\n"
     ]
    }
   ],
   "source": [
    "train_scores = clf.score(x_train_60, y_train_60)\n",
    "test_scores = clf.score(x_test_60, y_test_60)  \n",
    "\n",
    "print(\"\\n Grid Search CV\")\n",
    "print(f\"Training Accuracy...{train_scores}\")\n",
    "print(f\"Test Accuracy...{test_scores}\")"
   ]
  },
  {
   "cell_type": "code",
   "execution_count": null,
   "id": "4c786490",
   "metadata": {
    "papermill": {
     "duration": 0.046235,
     "end_time": "2022-11-18T15:41:43.564071",
     "exception": false,
     "start_time": "2022-11-18T15:41:43.517836",
     "status": "completed"
    },
    "tags": []
   },
   "outputs": [],
   "source": []
  }
 ],
 "metadata": {
  "kernelspec": {
   "display_name": "Python 3",
   "language": "python",
   "name": "python3"
  },
  "language_info": {
   "codemirror_mode": {
    "name": "ipython",
    "version": 3
   },
   "file_extension": ".py",
   "mimetype": "text/x-python",
   "name": "python",
   "nbconvert_exporter": "python",
   "pygments_lexer": "ipython3",
   "version": "3.7.12"
  },
  "papermill": {
   "default_parameters": {},
   "duration": 1564.647481,
   "end_time": "2022-11-18T15:41:46.219285",
   "environment_variables": {},
   "exception": null,
   "input_path": "__notebook__.ipynb",
   "output_path": "__notebook__.ipynb",
   "parameters": {},
   "start_time": "2022-11-18T15:15:41.571804",
   "version": "2.3.4"
  }
 },
 "nbformat": 4,
 "nbformat_minor": 5
}
